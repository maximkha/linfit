{
 "cells": [
  {
   "cell_type": "code",
   "execution_count": 1,
   "source": [
    "import pandas as pd\r\n",
    "import numpy as np\r\n",
    "import sys\r\n",
    "import torch\r\n",
    "import torch.nn as nn"
   ],
   "outputs": [],
   "metadata": {}
  },
  {
   "cell_type": "code",
   "execution_count": 2,
   "source": [
    "df_train = pd.read_csv(r\"C:\\Users\\maxim\\Desktop\\js\\linfit\\test\\archive\\mnist_train.csv\")\r\n",
    "df_test = pd.read_csv(r\"C:\\Users\\maxim\\Desktop\\js\\linfit\\test\\archive\\mnist_test.csv\")"
   ],
   "outputs": [],
   "metadata": {}
  },
  {
   "cell_type": "code",
   "execution_count": 3,
   "source": [
    "xcolnams = df_train.columns.tolist()\r\n",
    "print(\"check0\")\r\n",
    "df_train[xcolnams[1:]] /= 255. #convert the pixel values to 0..1\r\n",
    "print(\"check1\")\r\n",
    "\r\n",
    "Xs_train = torch.tensor(df_train[xcolnams[1:]].values).float().cuda()\r\n",
    "print(\"check2\")\r\n",
    "\r\n",
    "ycolnams = []\r\n",
    "for i in range(10):\r\n",
    "    coln = \"is\"+str(i)\r\n",
    "    ycolnams.append(coln)\r\n",
    "    df_train[coln] = (df_train[\"label\"] == i).astype(float)"
   ],
   "outputs": [
    {
     "output_type": "stream",
     "name": "stdout",
     "text": [
      "check0\n",
      "check1\n",
      "check2\n"
     ]
    }
   ],
   "metadata": {}
  },
  {
   "cell_type": "code",
   "execution_count": 4,
   "source": [
    "xcolnams = df_test.columns.tolist()\r\n",
    "print(\"check0\")\r\n",
    "df_test[xcolnams[1:]] /= 255. #convert the pixel values to 0..1\r\n",
    "print(\"check1\")\r\n",
    "\r\n",
    "Xs_test = torch.tensor(df_test[xcolnams[1:]].values).float().cuda()\r\n",
    "print(\"check2\")\r\n",
    "\r\n",
    "ycolnams = []\r\n",
    "for i in range(10):\r\n",
    "    coln = \"is\"+str(i)\r\n",
    "    ycolnams.append(coln)\r\n",
    "    df_test[coln] = (df_test[\"label\"] == i).astype(float)"
   ],
   "outputs": [
    {
     "output_type": "stream",
     "name": "stdout",
     "text": [
      "check0\n",
      "check1\n",
      "check2\n"
     ]
    }
   ],
   "metadata": {}
  },
  {
   "cell_type": "code",
   "execution_count": 5,
   "source": [
    "Ys_train = torch.tensor(df_train[ycolnams].values).float().cuda()\r\n",
    "Ys_test = torch.tensor(df_test[ycolnams].values).float().cuda()"
   ],
   "outputs": [],
   "metadata": {}
  },
  {
   "cell_type": "code",
   "execution_count": 6,
   "source": [
    "trainloader=torch.utils.data.DataLoader(list(zip(Xs_train, torch.tensor(df_train[\"label\"].values).cuda())), batch_size=32, shuffle=True)\r\n",
    "testloader=torch.utils.data.DataLoader(list(zip(Xs_test, torch.tensor(df_test[\"label\"].values).cuda())), batch_size=32, shuffle=False)"
   ],
   "outputs": [],
   "metadata": {}
  },
  {
   "cell_type": "code",
   "execution_count": 7,
   "source": [
    "print(Xs_test.shape)\r\n",
    "print(Ys_train[:,:10])"
   ],
   "outputs": [
    {
     "output_type": "stream",
     "name": "stdout",
     "text": [
      "torch.Size([10000, 784])\n",
      "tensor([[0., 0., 0.,  ..., 0., 0., 0.],\n",
      "        [1., 0., 0.,  ..., 0., 0., 0.],\n",
      "        [0., 0., 0.,  ..., 0., 0., 0.],\n",
      "        ...,\n",
      "        [0., 0., 0.,  ..., 0., 0., 0.],\n",
      "        [0., 0., 0.,  ..., 0., 0., 0.],\n",
      "        [0., 0., 0.,  ..., 0., 1., 0.]], device='cuda:0')\n"
     ]
    }
   ],
   "metadata": {}
  },
  {
   "cell_type": "code",
   "execution_count": 8,
   "source": [
    "mod = nn.Sequential(\r\n",
    "    nn.Linear(28**2, 400),\r\n",
    "    nn.ReLU(),\r\n",
    "    nn.Linear(400, 10),\r\n",
    "    nn.ReLU()\r\n",
    ")\r\n",
    "\r\n",
    "# mod = nn.Sequential(\r\n",
    "#     nn.Linear(28**2, 10),\r\n",
    "# )\r\n",
    "\r\n",
    "mod = mod.cuda()"
   ],
   "outputs": [],
   "metadata": {}
  },
  {
   "cell_type": "code",
   "execution_count": 9,
   "source": [
    "Xs_train.shape"
   ],
   "outputs": [
    {
     "output_type": "execute_result",
     "data": {
      "text/plain": [
       "torch.Size([60000, 784])"
      ]
     },
     "metadata": {},
     "execution_count": 9
    }
   ],
   "metadata": {}
  },
  {
   "cell_type": "code",
   "execution_count": 10,
   "source": [
    "mod(Xs_train)"
   ],
   "outputs": [
    {
     "output_type": "execute_result",
     "data": {
      "text/plain": [
       "tensor([[0.0043, 0.0148, 0.0615,  ..., 0.0000, 0.0000, 0.0000],\n",
       "        [0.0225, 0.1318, 0.0661,  ..., 0.0000, 0.0000, 0.0000],\n",
       "        [0.0184, 0.1373, 0.0640,  ..., 0.0000, 0.0000, 0.0000],\n",
       "        ...,\n",
       "        [0.0014, 0.0347, 0.0454,  ..., 0.0000, 0.0000, 0.0000],\n",
       "        [0.0059, 0.1062, 0.0176,  ..., 0.0000, 0.0000, 0.0000],\n",
       "        [0.0093, 0.0798, 0.0743,  ..., 0.0000, 0.0000, 0.0000]],\n",
       "       device='cuda:0', grad_fn=<ReluBackward0>)"
      ]
     },
     "metadata": {},
     "execution_count": 10
    }
   ],
   "metadata": {}
  },
  {
   "cell_type": "code",
   "execution_count": 11,
   "source": [
    "import linstorch"
   ],
   "outputs": [],
   "metadata": {}
  },
  {
   "cell_type": "code",
   "execution_count": 12,
   "source": [
    "import importlib\r\n",
    "importlib.reload(linstorch)"
   ],
   "outputs": [
    {
     "output_type": "execute_result",
     "data": {
      "text/plain": [
       "<module 'linstorch' from 'c:\\\\Users\\\\maxim\\\\Desktop\\\\js\\\\linfit\\\\fulltorch\\\\linstorch.py'>"
      ]
     },
     "metadata": {},
     "execution_count": 12
    }
   ],
   "metadata": {}
  },
  {
   "cell_type": "code",
   "execution_count": 13,
   "source": [
    "import time"
   ],
   "outputs": [],
   "metadata": {}
  },
  {
   "cell_type": "code",
   "execution_count": 14,
   "source": [
    "forw = mod.forward(Xs_test)\r\n",
    "guessed = torch.argmax(forw, axis=1).cpu().numpy()\r\n",
    "print(sum(guessed == df_test[\"label\"].values) / len(guessed))"
   ],
   "outputs": [
    {
     "output_type": "stream",
     "name": "stdout",
     "text": [
      "0.0719\n"
     ]
    }
   ],
   "metadata": {}
  },
  {
   "cell_type": "code",
   "execution_count": 15,
   "source": [
    "# t0 = time.time()\r\n",
    "# mod = linstorch.solvemodel(mod, Xs_train, Ys_train)\r\n",
    "# print('{} seconds'.format(time.time() - t0))"
   ],
   "outputs": [
    {
     "output_type": "stream",
     "name": "stdout",
     "text": [
      "2.2500882148742676 seconds\n"
     ]
    }
   ],
   "metadata": {}
  },
  {
   "cell_type": "code",
   "execution_count": 16,
   "source": [
    "forw = mod.forward(Xs_train)\r\n",
    "guessed = torch.argmax(forw, axis=1).cpu().numpy()\r\n",
    "print(sum(guessed == df_train[\"label\"].values) / len(guessed))"
   ],
   "outputs": [
    {
     "output_type": "stream",
     "name": "stdout",
     "text": [
      "0.90695\n"
     ]
    }
   ],
   "metadata": {}
  },
  {
   "cell_type": "code",
   "execution_count": 17,
   "source": [
    "forw = mod.forward(Xs_test)\r\n",
    "guessed = torch.argmax(forw, axis=1).cpu().numpy()\r\n",
    "print(sum(guessed == df_test[\"label\"].values) / len(guessed))"
   ],
   "outputs": [
    {
     "output_type": "stream",
     "name": "stdout",
     "text": [
      "0.901\n"
     ]
    }
   ],
   "metadata": {}
  },
  {
   "cell_type": "code",
   "execution_count": 18,
   "source": [
    "import torch.optim as optim\r\n",
    "\r\n",
    "criterion = nn.CrossEntropyLoss()\r\n",
    "#optimizer = optim.Adam(mod.parameters())\r\n",
    "#optimizer = optim.SGD(mod.parameters(), lr=0.001, momentum=0.9)\r\n",
    "optimizer = optim.Adagrad(mod.parameters()) #optim.Adagrad(mod.parameters(), lr=0.001)\r\n",
    "\r\n",
    "def train(ep):\r\n",
    "    for epoch in range(ep):  # loop over the dataset multiple times\r\n",
    "        running_loss = 0.0\r\n",
    "        for i, data in enumerate(trainloader, 0):\r\n",
    "            # get the inputs; data is a list of [inputs, labels]\r\n",
    "            inputs, labels = data\r\n",
    "            # print(labels.shape)\r\n",
    "            #labels = torch.argmax(labels, axis=1)\r\n",
    "            # print(labels)\r\n",
    "            # print(labels.shape)\r\n",
    "            # zero the parameter gradients\r\n",
    "            optimizer.zero_grad()\r\n",
    "\r\n",
    "            # forward + backward + optimize\r\n",
    "            outputs = mod(inputs)\r\n",
    "            loss = criterion(outputs, labels)\r\n",
    "            loss.backward()\r\n",
    "            optimizer.step()\r\n",
    "\r\n",
    "            # print statistics\r\n",
    "            running_loss += loss.item()\r\n",
    "            if i % 2000 == 1999:    # print every 2000 mini-batches\r\n",
    "                print('[%d, %5d] loss: %.3f' %\r\n",
    "                    (epoch + 1, i + 1, running_loss / 2000))\r\n",
    "                running_loss = 0.0\r\n",
    "\r\n",
    "    print('Finished Training')"
   ],
   "outputs": [],
   "metadata": {}
  },
  {
   "cell_type": "code",
   "execution_count": 19,
   "source": [
    "t0 = time.time()\r\n",
    "train(10)\r\n",
    "print('{} seconds'.format(time.time() - t0))"
   ],
   "outputs": [
    {
     "output_type": "stream",
     "name": "stdout",
     "text": [
      "0.0 seconds\n"
     ]
    }
   ],
   "metadata": {
    "tags": []
   }
  },
  {
   "cell_type": "code",
   "execution_count": 20,
   "source": [
    "Ys_test[0].unsqueeze(0)"
   ],
   "outputs": [
    {
     "output_type": "execute_result",
     "data": {
      "text/plain": [
       "tensor([[0., 0., 0., 0., 0., 0., 0., 1., 0., 0.]], device='cuda:0')"
      ]
     },
     "metadata": {},
     "execution_count": 20
    }
   ],
   "metadata": {}
  },
  {
   "cell_type": "code",
   "execution_count": 21,
   "source": [
    "forw = mod.forward(Xs_test)\r\n",
    "guessed = torch.argmax(forw, axis=1).cpu().numpy()\r\n",
    "print(sum(guessed == df_test[\"label\"].values) / len(guessed))"
   ],
   "outputs": [
    {
     "output_type": "stream",
     "name": "stdout",
     "text": [
      "0.901\n"
     ]
    }
   ],
   "metadata": {}
  },
  {
   "cell_type": "code",
   "execution_count": 22,
   "source": [
    "# layers = linstorch.flattenseq(mod)\r\n",
    "# layers"
   ],
   "outputs": [],
   "metadata": {}
  },
  {
   "cell_type": "code",
   "execution_count": 23,
   "source": [
    "# back = linstorch.backwards(layers, 0, Ys_test[0].unsqueeze(0))"
   ],
   "outputs": [],
   "metadata": {}
  },
  {
   "cell_type": "code",
   "execution_count": 24,
   "source": [
    "# import matplotlib.pyplot as plt"
   ],
   "outputs": [],
   "metadata": {}
  },
  {
   "cell_type": "code",
   "execution_count": 25,
   "source": [
    "# plt.imshow(back.reshape(28,28).cpu().detach().numpy())"
   ],
   "outputs": [],
   "metadata": {}
  },
  {
   "cell_type": "code",
   "execution_count": 26,
   "source": [
    "#del mod"
   ],
   "outputs": [],
   "metadata": {}
  },
  {
   "cell_type": "code",
   "execution_count": 27,
   "source": [
    "#torch.cuda.empty_cache()"
   ],
   "outputs": [],
   "metadata": {}
  },
  {
   "cell_type": "code",
   "execution_count": 28,
   "source": [
    "layers = linstorch.flattenseq(mod)\r\n",
    "outpi = linstorch.forwardsto(layers, 100, Xs_test)\r\n",
    "print(outpi.mean())\r\n",
    "\r\n",
    "print(outpi.max())\r\n",
    "print(outpi.min())\r\n",
    "\r\n",
    "print(\"===\")\r\n",
    "outpi = linstorch.forwardsto(layers, -1, Xs_test)\r\n",
    "print(outpi.mean())\r\n",
    "print(outpi.max())\r\n",
    "print(outpi.min())\r\n",
    "\r\n",
    "print(\"===\")\r\n",
    "outpi = linstorch.forwardsto(layers, -2, Xs_test)\r\n",
    "print(outpi.mean())\r\n",
    "print(outpi.max())\r\n",
    "print(outpi.min())\r\n",
    "\r\n",
    "print(\"===\")\r\n",
    "outpi = linstorch.forwardsto(layers, -3, Xs_test)\r\n",
    "print(outpi.mean())\r\n",
    "print(outpi.max())\r\n",
    "print(outpi.min())\r\n",
    "\r\n",
    "print(\"===\")\r\n",
    "outpi = linstorch.forwardsto(layers, -4, Xs_test)\r\n",
    "print(outpi.mean())\r\n",
    "print(outpi.max())\r\n",
    "print(outpi.min())"
   ],
   "outputs": [
    {
     "output_type": "stream",
     "name": "stdout",
     "text": [
      "tensor(0.1145, device='cuda:0', grad_fn=<MeanBackward0>)\n",
      "tensor(9.8883, device='cuda:0', grad_fn=<MaxBackward1>)\n",
      "tensor(0., device='cuda:0', grad_fn=<MinBackward1>)\n",
      "===\n",
      "tensor(0.1000, device='cuda:0', grad_fn=<MeanBackward0>)\n",
      "tensor(9.8883, device='cuda:0', grad_fn=<MaxBackward1>)\n",
      "tensor(-14.1018, device='cuda:0', grad_fn=<MinBackward1>)\n",
      "===\n",
      "tensor(0.0065, device='cuda:0', grad_fn=<MeanBackward0>)\n",
      "tensor(3.4214, device='cuda:0', grad_fn=<MaxBackward1>)\n",
      "tensor(0., device='cuda:0', grad_fn=<MinBackward1>)\n",
      "===\n",
      "tensor(0.0006, device='cuda:0', grad_fn=<MeanBackward0>)\n",
      "tensor(3.4214, device='cuda:0', grad_fn=<MaxBackward1>)\n",
      "tensor(-4.8169, device='cuda:0', grad_fn=<MinBackward1>)\n",
      "===\n",
      "tensor(0.1325, device='cuda:0')\n",
      "tensor(1., device='cuda:0')\n",
      "tensor(0., device='cuda:0')\n"
     ]
    }
   ],
   "metadata": {}
  },
  {
   "cell_type": "code",
   "execution_count": 29,
   "source": [
    "layers = linstorch.flattenseq(mod)\r\n",
    "outpi = linstorch.forwardsto(layers, 100, Xs_train)\r\n",
    "print(outpi.mean())\r\n",
    "\r\n",
    "print(outpi.max())\r\n",
    "print(outpi.min())\r\n",
    "\r\n",
    "print(\"===\")\r\n",
    "outpi = linstorch.forwardsto(layers, -1, Xs_train)\r\n",
    "print(outpi.mean())\r\n",
    "print(outpi.max())\r\n",
    "print(outpi.min())\r\n",
    "\r\n",
    "print(\"===\")\r\n",
    "outpi = linstorch.forwardsto(layers, -2, Xs_train)\r\n",
    "print(outpi.mean())\r\n",
    "print(outpi.max())\r\n",
    "print(outpi.min())\r\n",
    "\r\n",
    "print(\"===\")\r\n",
    "outpi = linstorch.forwardsto(layers, -3, Xs_train)\r\n",
    "print(outpi.mean())\r\n",
    "print(outpi.max())\r\n",
    "print(outpi.min())\r\n",
    "\r\n",
    "print(\"===\")\r\n",
    "outpi = linstorch.forwardsto(layers, -4, Xs_train)\r\n",
    "print(outpi.mean())\r\n",
    "print(outpi.max())\r\n",
    "print(outpi.min())"
   ],
   "outputs": [
    {
     "output_type": "stream",
     "name": "stdout",
     "text": [
      "tensor(0.1139, device='cuda:0', grad_fn=<MeanBackward0>)\n",
      "tensor(1.5205, device='cuda:0', grad_fn=<MaxBackward1>)\n",
      "tensor(0., device='cuda:0', grad_fn=<MinBackward1>)\n",
      "===\n",
      "tensor(0.1000, device='cuda:0', grad_fn=<MeanBackward0>)\n",
      "tensor(1.5205, device='cuda:0', grad_fn=<MaxBackward1>)\n",
      "tensor(-0.6109, device='cuda:0', grad_fn=<MinBackward1>)\n",
      "===\n",
      "tensor(0.0064, device='cuda:0', grad_fn=<MeanBackward0>)\n",
      "tensor(11.1742, device='cuda:0', grad_fn=<MaxBackward1>)\n",
      "tensor(0., device='cuda:0', grad_fn=<MinBackward1>)\n",
      "===\n",
      "tensor(0.0006, device='cuda:0', grad_fn=<MeanBackward0>)\n",
      "tensor(11.1742, device='cuda:0', grad_fn=<MaxBackward1>)\n",
      "tensor(-17.8712, device='cuda:0', grad_fn=<MinBackward1>)\n",
      "===\n",
      "tensor(0.1307, device='cuda:0')\n",
      "tensor(1., device='cuda:0')\n",
      "tensor(0., device='cuda:0')\n"
     ]
    }
   ],
   "metadata": {}
  },
  {
   "cell_type": "code",
   "execution_count": null,
   "source": [],
   "outputs": [],
   "metadata": {}
  }
 ],
 "metadata": {
  "interpreter": {
   "hash": "c4a6cc1c2df5ddd62d6925b2a7bdee9abacf912eab37272999970e810b9642fd"
  },
  "kernelspec": {
   "display_name": "Python 3.8.0 64-bit",
   "name": "python3"
  },
  "language_info": {
   "codemirror_mode": {
    "name": "ipython",
    "version": 3
   },
   "file_extension": ".py",
   "mimetype": "text/x-python",
   "name": "python",
   "nbconvert_exporter": "python",
   "pygments_lexer": "ipython3",
   "version": "3.8.0"
  },
  "orig_nbformat": 4
 },
 "nbformat": 4,
 "nbformat_minor": 2
}