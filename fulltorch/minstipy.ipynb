{
 "metadata": {
  "language_info": {
   "codemirror_mode": {
    "name": "ipython",
    "version": 3
   },
   "file_extension": ".py",
   "mimetype": "text/x-python",
   "name": "python",
   "nbconvert_exporter": "python",
   "pygments_lexer": "ipython3",
   "version": "3.8.0"
  },
  "orig_nbformat": 4,
  "kernelspec": {
   "name": "python3",
   "display_name": "Python 3.8.0 64-bit"
  },
  "interpreter": {
   "hash": "c4a6cc1c2df5ddd62d6925b2a7bdee9abacf912eab37272999970e810b9642fd"
  }
 },
 "nbformat": 4,
 "nbformat_minor": 2,
 "cells": [
  {
   "cell_type": "code",
   "execution_count": 1,
   "metadata": {},
   "outputs": [],
   "source": [
    "import pandas as pd\n",
    "import numpy as np\n",
    "import sys\n",
    "import torch\n",
    "import torch.nn as nn"
   ]
  },
  {
   "cell_type": "code",
   "execution_count": 2,
   "metadata": {},
   "outputs": [],
   "source": [
    "df_train = pd.read_csv(r\"C:\\Users\\maxim\\Desktop\\js\\linfit\\test\\archive\\mnist_train.csv\")\n",
    "df_test = pd.read_csv(r\"C:\\Users\\maxim\\Desktop\\js\\linfit\\test\\archive\\mnist_test.csv\")"
   ]
  },
  {
   "cell_type": "code",
   "execution_count": 3,
   "metadata": {},
   "outputs": [
    {
     "output_type": "stream",
     "name": "stdout",
     "text": [
      "check0\n",
      "check1\n",
      "check2\n"
     ]
    }
   ],
   "source": [
    "xcolnams = df_train.columns.tolist()\r\n",
    "print(\"check0\")\r\n",
    "df_train[xcolnams[1:]] /= 255. #convert the pixel values to 0..1\r\n",
    "print(\"check1\")\r\n",
    "\r\n",
    "Xs_train = torch.tensor(df_train[xcolnams[1:]].values).float().cuda()\r\n",
    "print(\"check2\")\r\n",
    "\r\n",
    "ycolnams = []\r\n",
    "for i in range(10):\r\n",
    "    coln = \"is\"+str(i)\r\n",
    "    ycolnams.append(coln)\r\n",
    "    df_train[coln] = (df_train[\"label\"] == i).astype(float)"
   ]
  },
  {
   "cell_type": "code",
   "execution_count": 4,
   "metadata": {},
   "outputs": [
    {
     "output_type": "stream",
     "name": "stdout",
     "text": [
      "check0\n",
      "check1\n",
      "check2\n"
     ]
    }
   ],
   "source": [
    "xcolnams = df_test.columns.tolist()\n",
    "print(\"check0\")\n",
    "df_test[xcolnams[1:]] /= 255. #convert the pixel values to 0..1\n",
    "print(\"check1\")\n",
    "\n",
    "Xs_test = torch.tensor(df_test[xcolnams[1:]].values).float().cuda()\n",
    "print(\"check2\")\n",
    "\n",
    "ycolnams = []\n",
    "for i in range(10):\n",
    "    coln = \"is\"+str(i)\n",
    "    ycolnams.append(coln)\n",
    "    df_test[coln] = (df_test[\"label\"] == i).astype(float)"
   ]
  },
  {
   "cell_type": "code",
   "execution_count": 5,
   "metadata": {},
   "outputs": [],
   "source": [
    "Ys_train = torch.tensor(df_train[ycolnams].values).float().cuda()\n",
    "Ys_test = torch.tensor(df_test[ycolnams].values).float().cuda()"
   ]
  },
  {
   "cell_type": "code",
   "execution_count": 6,
   "metadata": {},
   "outputs": [
    {
     "output_type": "stream",
     "name": "stdout",
     "text": [
      "torch.Size([10000, 784])\ntensor([[0., 0., 0.,  ..., 0., 0., 0.],\n        [1., 0., 0.,  ..., 0., 0., 0.],\n        [0., 0., 0.,  ..., 0., 0., 0.],\n        ...,\n        [0., 0., 0.,  ..., 0., 0., 0.],\n        [0., 0., 0.,  ..., 0., 0., 0.],\n        [0., 0., 0.,  ..., 0., 1., 0.]], device='cuda:0')\n"
     ]
    }
   ],
   "source": [
    "print(Xs_test.shape)\n",
    "print(Ys_train[:,:10])"
   ]
  },
  {
   "cell_type": "code",
   "execution_count": 171,
   "metadata": {},
   "outputs": [],
   "source": [
    "mod = nn.Sequential(\n",
    "    nn.Linear(28**2, 400),\n",
    "    nn.ReLU(),\n",
    "    nn.Linear(400, 10),\n",
    "    nn.ReLU()\n",
    ")\n",
    "\n",
    "# mod = nn.Sequential(\n",
    "#     nn.Linear(28**2, 10),\n",
    "# )\n",
    "\n",
    "mod = mod.cuda()"
   ]
  },
  {
   "cell_type": "code",
   "execution_count": 172,
   "metadata": {},
   "outputs": [
    {
     "output_type": "execute_result",
     "data": {
      "text/plain": [
       "torch.Size([60000, 784])"
      ]
     },
     "metadata": {},
     "execution_count": 172
    }
   ],
   "source": [
    "Xs_train.shape"
   ]
  },
  {
   "cell_type": "code",
   "execution_count": 173,
   "metadata": {},
   "outputs": [
    {
     "output_type": "execute_result",
     "data": {
      "text/plain": [
       "tensor([[0.0000, 0.0687, 0.1029,  ..., 0.0191, 0.0535, 0.0000],\n",
       "        [0.0000, 0.0955, 0.0000,  ..., 0.0726, 0.0000, 0.0000],\n",
       "        [0.0000, 0.0925, 0.0000,  ..., 0.0285, 0.0000, 0.0000],\n",
       "        ...,\n",
       "        [0.0000, 0.1100, 0.1026,  ..., 0.0315, 0.0850, 0.0000],\n",
       "        [0.0000, 0.0480, 0.0191,  ..., 0.0446, 0.0000, 0.0000],\n",
       "        [0.0000, 0.1393, 0.0290,  ..., 0.0264, 0.0000, 0.0000]],\n",
       "       device='cuda:0', grad_fn=<ReluBackward0>)"
      ]
     },
     "metadata": {},
     "execution_count": 173
    }
   ],
   "source": [
    "mod(Xs_train)"
   ]
  },
  {
   "cell_type": "code",
   "execution_count": 174,
   "metadata": {},
   "outputs": [],
   "source": [
    "import linstorch"
   ]
  },
  {
   "cell_type": "code",
   "execution_count": 175,
   "metadata": {},
   "outputs": [
    {
     "output_type": "execute_result",
     "data": {
      "text/plain": [
       "<module 'linstorch' from 'c:\\\\Users\\\\maxim\\\\Desktop\\\\js\\\\linfit\\\\fulltorch\\\\linstorch.py'>"
      ]
     },
     "metadata": {},
     "execution_count": 175
    }
   ],
   "source": [
    "import importlib\n",
    "importlib.reload(linstorch)"
   ]
  },
  {
   "cell_type": "code",
   "execution_count": 176,
   "metadata": {},
   "outputs": [],
   "source": [
    "# t0 = time.time()\n",
    "# mod = linstorch.solvemodel(mod, Xs_train, Ys_train)\n",
    "# print('{} seconds'.format(time.time() - t0))"
   ]
  },
  {
   "cell_type": "code",
   "execution_count": 177,
   "metadata": {},
   "outputs": [
    {
     "output_type": "stream",
     "name": "stdout",
     "text": [
      "0.07565\n"
     ]
    }
   ],
   "source": [
    "forw = mod.forward(Xs_train)\n",
    "guessed = torch.argmax(forw, axis=1).cpu().numpy()\n",
    "print(sum(guessed == df_train[\"label\"].values) / len(guessed))"
   ]
  },
  {
   "cell_type": "code",
   "execution_count": 178,
   "metadata": {},
   "outputs": [
    {
     "output_type": "stream",
     "name": "stdout",
     "text": [
      "0.0792\n"
     ]
    }
   ],
   "source": [
    "forw = mod.forward(Xs_test)\n",
    "guessed = torch.argmax(forw, axis=1).cpu().numpy()\n",
    "print(sum(guessed == df_test[\"label\"].values) / len(guessed))"
   ]
  },
  {
   "cell_type": "code",
   "execution_count": 179,
   "metadata": {},
   "outputs": [],
   "source": [
    "trainloader=torch.utils.data.DataLoader(list(zip(Xs_train, Ys_train)), batch_size=32, shuffle=True)\n",
    "testloader=torch.utils.data.DataLoader(list(zip(Xs_test, Ys_test)), batch_size=32, shuffle=False)"
   ]
  },
  {
   "cell_type": "code",
   "execution_count": 180,
   "metadata": {},
   "outputs": [],
   "source": [
    "import torch.optim as optim\n",
    "\n",
    "criterion = nn.CrossEntropyLoss()\n",
    "#optimizer = optim.Adam(mod.parameters(), lr=0.001)\n",
    "#optimizer = optim.SGD(mod.parameters(), lr=0.001, momentum=0.9)\n",
    "optimizer = optim.Adagrad(mod.parameters(), lr=0.001)\n",
    "\n",
    "def train(ep):\n",
    "    for epoch in range(ep):  # loop over the dataset multiple times\n",
    "        running_loss = 0.0\n",
    "        for i, data in enumerate(trainloader, 0):\n",
    "            # get the inputs; data is a list of [inputs, labels]\n",
    "            inputs, labels = data\n",
    "            # print(labels.shape)\n",
    "            labels = torch.argmax(labels, axis=1)\n",
    "            # print(labels)\n",
    "            # print(labels.shape)\n",
    "            # zero the parameter gradients\n",
    "            optimizer.zero_grad()\n",
    "\n",
    "            # forward + backward + optimize\n",
    "            outputs = mod(inputs)\n",
    "            loss = criterion(outputs, labels)\n",
    "            loss.backward()\n",
    "            optimizer.step()\n",
    "\n",
    "            # print statistics\n",
    "            running_loss += loss.item()\n",
    "            if i % 2000 == 1999:    # print every 2000 mini-batches\n",
    "                print('[%d, %5d] loss: %.3f' %\n",
    "                    (epoch + 1, i + 1, running_loss / 2000))\n",
    "                running_loss = 0.0\n",
    "\n",
    "    print('Finished Training')"
   ]
  },
  {
   "cell_type": "code",
   "execution_count": 181,
   "metadata": {},
   "outputs": [],
   "source": [
    "import time"
   ]
  },
  {
   "cell_type": "code",
   "execution_count": 182,
   "metadata": {
    "tags": []
   },
   "outputs": [
    {
     "output_type": "stream",
     "name": "stdout",
     "text": [
      "Finished Training\n2.24399995803833 seconds\n"
     ]
    }
   ],
   "source": [
    "t0 = time.time()\n",
    "train(1)\n",
    "print('{} seconds'.format(time.time() - t0))"
   ]
  },
  {
   "cell_type": "code",
   "execution_count": 183,
   "metadata": {},
   "outputs": [
    {
     "output_type": "stream",
     "name": "stdout",
     "text": [
      "0.785\n"
     ]
    }
   ],
   "source": [
    "forw = mod.forward(Xs_test)\n",
    "guessed = torch.argmax(forw, axis=1).cpu().numpy()\n",
    "print(sum(guessed == df_test[\"label\"].values) / len(guessed))"
   ]
  },
  {
   "cell_type": "code",
   "execution_count": null,
   "metadata": {},
   "outputs": [],
   "source": []
  }
 ]
}