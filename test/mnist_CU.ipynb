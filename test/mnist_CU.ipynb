{
 "metadata": {
  "language_info": {
   "codemirror_mode": {
    "name": "ipython",
    "version": 3
   },
   "file_extension": ".py",
   "mimetype": "text/x-python",
   "name": "python",
   "nbconvert_exporter": "python",
   "pygments_lexer": "ipython3",
   "version": "3.8.0"
  },
  "orig_nbformat": 2,
  "kernelspec": {
   "name": "python380jvsc74a57bd0c4a6cc1c2df5ddd62d6925b2a7bdee9abacf912eab37272999970e810b9642fd",
   "display_name": "Python 3.8.0 64-bit"
  }
 },
 "nbformat": 4,
 "nbformat_minor": 2,
 "cells": [
  {
   "cell_type": "code",
   "execution_count": 1,
   "metadata": {},
   "outputs": [],
   "source": [
    "import pandas as pd\n",
    "import numpy as np\n",
    "import sys\n",
    "import torch"
   ]
  },
  {
   "cell_type": "code",
   "execution_count": 2,
   "metadata": {},
   "outputs": [],
   "source": [
    "df_train = pd.read_csv(r\"C:\\Users\\maxim\\Desktop\\js\\linfit\\test\\archive\\mnist_train.csv\")\n",
    "df_test = pd.read_csv(r\"C:\\Users\\maxim\\Desktop\\js\\linfit\\test\\archive\\mnist_test.csv\")"
   ]
  },
  {
   "cell_type": "code",
   "execution_count": 3,
   "metadata": {},
   "outputs": [
    {
     "output_type": "stream",
     "name": "stdout",
     "text": [
      "check0\n",
      "check1\n",
      "check2\n"
     ]
    }
   ],
   "source": [
    "xcolnams = df_train.columns.tolist()\n",
    "print(\"check0\")\n",
    "df_train[xcolnams[1:]] /= 255. #convert the pixel values to 0..1\n",
    "print(\"check1\")\n",
    "\n",
    "df_train[\"ones\"] = 1.\n",
    "xcolnams += [\"ones\"]\n",
    "Xs_train = torch.tensor(df_train[xcolnams[1:]].values.T).float().cuda()\n",
    "print(\"check2\")"
   ]
  },
  {
   "cell_type": "code",
   "execution_count": 4,
   "metadata": {},
   "outputs": [],
   "source": [
    "ycolnams = []\n",
    "for i in range(10):\n",
    "    coln = \"is\"+str(i)\n",
    "    ycolnams.append(coln)\n",
    "    df_train[coln] = (df_train[\"label\"] == i).astype(float)"
   ]
  },
  {
   "cell_type": "code",
   "execution_count": 5,
   "metadata": {},
   "outputs": [
    {
     "output_type": "stream",
     "name": "stdout",
     "text": [
      "check0\n",
      "check1\n",
      "check2\n"
     ]
    }
   ],
   "source": [
    "xcolnams = df_test.columns.tolist()\n",
    "print(\"check0\")\n",
    "df_test[xcolnams[1:]] /= 255. #convert the pixel values to 0..1\n",
    "print(\"check1\")\n",
    "\n",
    "df_test[\"ones\"] = 1.\n",
    "xcolnams += [\"ones\"]\n",
    "Xs_test = torch.tensor(df_test[xcolnams[1:]].values.T).float().cuda()\n",
    "print(\"check2\")"
   ]
  },
  {
   "cell_type": "code",
   "execution_count": 6,
   "metadata": {},
   "outputs": [],
   "source": [
    "ycolnams = []\n",
    "for i in range(10):\n",
    "    coln = \"is\"+str(i)\n",
    "    ycolnams.append(coln)\n",
    "    df_test[coln] = (df_test[\"label\"] == i).astype(float)"
   ]
  },
  {
   "cell_type": "code",
   "execution_count": 7,
   "metadata": {},
   "outputs": [],
   "source": [
    "Ys_train = torch.tensor(df_train[ycolnams + [\"ones\"]].values.T).float().cuda()"
   ]
  },
  {
   "cell_type": "code",
   "execution_count": 8,
   "metadata": {},
   "outputs": [],
   "source": [
    "Ys_test = torch.tensor(df_test[ycolnams + [\"ones\"]].values.T).float().cuda()"
   ]
  },
  {
   "cell_type": "code",
   "execution_count": 9,
   "metadata": {},
   "outputs": [],
   "source": [
    "sys.path.append(r\"C:\\Users\\maxim\\Desktop\\js\\linfit\")\n",
    "from torch_linfit import lay, lay_holder"
   ]
  },
  {
   "cell_type": "code",
   "execution_count": 10,
   "metadata": {},
   "outputs": [
    {
     "output_type": "execute_result",
     "data": {
      "text/plain": [
       "torch.Size([11, 60000])"
      ]
     },
     "metadata": {},
     "execution_count": 10
    }
   ],
   "source": [
    "Ys_train.shape"
   ]
  },
  {
   "cell_type": "code",
   "execution_count": 11,
   "metadata": {},
   "outputs": [],
   "source": [
    "model = lay_holder([lay(784,400), lay(400,10)]) \n",
    "#model = lay_holder([lay(784,10, False)])"
   ]
  },
  {
   "cell_type": "code",
   "execution_count": null,
   "metadata": {},
   "outputs": [],
   "source": []
  },
  {
   "cell_type": "code",
   "execution_count": 12,
   "metadata": {},
   "outputs": [
    {
     "output_type": "stream",
     "name": "stdout",
     "text": [
      "Back\n",
      "tensor(0.0220, device='cuda:0')\n",
      "tensor(0.0431, device='cuda:0')\n",
      "Front\n",
      "tensor(0.0449, device='cuda:0')\n",
      "tensor(0.0103, device='cuda:0')\n",
      "Took 3.758156099999951s\n"
     ]
    }
   ],
   "source": [
    "import timeit\n",
    "start_time = timeit.default_timer()\n",
    "NTR = 1\n",
    "for j in range(NTR):\n",
    "    print(\"Back\")\n",
    "    for i in range(len(model.layers)):\n",
    "        model.solve_update(Xs_train, Ys_train, n=len(model.layers)-i)\n",
    "        forw = model.forward(Xs_train)\n",
    "        mse = torch.mean((forw[0,:] - Ys_train[0,:])**2)\n",
    "        print(mse)\n",
    "\n",
    "    print(\"Front\")\n",
    "    for i in range(len(model.layers)):\n",
    "        model.solve_update(Xs_train, Ys_train, n=i + 1)\n",
    "        forw = model.forward(Xs_train)\n",
    "        #print(forw.shape)\n",
    "        mse = torch.mean((forw[0,:] - Ys_train[0,:])**2)\n",
    "        print(mse)\n",
    "elapsed = timeit.default_timer() - start_time\n",
    "print(f\"Took {elapsed}s\")"
   ]
  },
  {
   "cell_type": "code",
   "execution_count": 13,
   "metadata": {},
   "outputs": [],
   "source": [
    "forw = model.forward(Xs_train)\n",
    "# #print(forw.shape)\n",
    "# mse = np.mean((forw[0,:] - Ys_train[0,:])**2)\n",
    "\n",
    "guessed = torch.argmax(forw[:-1,:], axis=0).cpu().numpy()\n",
    "# print(mse)"
   ]
  },
  {
   "cell_type": "code",
   "execution_count": 14,
   "metadata": {},
   "outputs": [
    {
     "output_type": "execute_result",
     "data": {
      "text/plain": [
       "array([5, 0, 4, ..., 5, 6, 5], dtype=int64)"
      ]
     },
     "metadata": {},
     "execution_count": 14
    }
   ],
   "source": [
    "guessed"
   ]
  },
  {
   "cell_type": "code",
   "execution_count": 15,
   "metadata": {},
   "outputs": [
    {
     "output_type": "execute_result",
     "data": {
      "text/plain": [
       "0.90045"
      ]
     },
     "metadata": {},
     "execution_count": 15
    }
   ],
   "source": [
    "sum(guessed == df_train[\"label\"].values) / len(guessed)"
   ]
  },
  {
   "cell_type": "code",
   "execution_count": 16,
   "metadata": {},
   "outputs": [
    {
     "output_type": "execute_result",
     "data": {
      "text/plain": [
       "0.1"
      ]
     },
     "metadata": {},
     "execution_count": 16
    }
   ],
   "source": [
    "1/10"
   ]
  },
  {
   "cell_type": "code",
   "execution_count": 17,
   "metadata": {},
   "outputs": [],
   "source": [
    "from sklearn.metrics import confusion_matrix"
   ]
  },
  {
   "cell_type": "code",
   "execution_count": 18,
   "metadata": {},
   "outputs": [
    {
     "output_type": "execute_result",
     "data": {
      "text/plain": [
       "array([[5735,    2,   28,   15,   10,   41,   49,    4,   37,    2],\n",
       "       [   1, 6477,   61,   21,    9,   17,    8,   19,  119,   10],\n",
       "       [  66,   62, 5346,  129,   71,   18,   86,   50,  111,   19],\n",
       "       [  25,   35,  192, 5345,   13,  210,    9,  112,  137,   53],\n",
       "       [   7,   22,   41,    3, 5382,   22,   75,    9,   44,  237],\n",
       "       [  88,   24,   69,  237,   33, 4509,   98,   40,  288,   35],\n",
       "       [  56,   20,   51,    2,   44,  109, 5591,    1,   39,    5],\n",
       "       [  21,   80,   61,   44,   99,   16,    2, 5730,   17,  195],\n",
       "       [  39,  235,   87,  199,   74,  262,   86,   16, 4777,   76],\n",
       "       [  38,   13,   24,   89,  320,   67,   19,  199,   45, 5135]],\n",
       "      dtype=int64)"
      ]
     },
     "metadata": {},
     "execution_count": 18
    }
   ],
   "source": [
    "confusion_matrix(df_train[\"label\"].values, guessed)"
   ]
  },
  {
   "cell_type": "code",
   "execution_count": 19,
   "metadata": {},
   "outputs": [],
   "source": [
    "forw = model.forward(Xs_test)\n",
    "# #print(forw.shape)\n",
    "# mse = np.mean((forw[0,:] - Ys_train[0,:])**2)\n",
    "\n",
    "guessed = torch.argmax(forw[:-1,:], axis=0).cpu().numpy()\n",
    "# print(mse)"
   ]
  },
  {
   "cell_type": "code",
   "execution_count": 20,
   "metadata": {},
   "outputs": [
    {
     "output_type": "execute_result",
     "data": {
      "text/plain": [
       "0.8991"
      ]
     },
     "metadata": {},
     "execution_count": 20
    }
   ],
   "source": [
    "sum(guessed == df_test[\"label\"].values) / len(guessed)"
   ]
  },
  {
   "cell_type": "code",
   "execution_count": 21,
   "metadata": {},
   "outputs": [
    {
     "output_type": "execute_result",
     "data": {
      "text/plain": [
       "array([[ 958,    0,    2,    1,    1,    7,    5,    1,    5,    0],\n",
       "       [   0, 1099,    7,    3,    1,    1,    3,    3,   18,    0],\n",
       "       [  11,   10,  922,   19,   16,    2,   14,   13,   23,    2],\n",
       "       [   5,    1,   24,  895,    3,   35,    0,   17,   25,    5],\n",
       "       [   1,    4,    6,    1,  900,    1,   14,    5,   11,   39],\n",
       "       [  11,    1,    5,   48,   10,  733,   10,   13,   56,    5],\n",
       "       [  17,    5,    8,    1,    8,   19,  894,    2,    4,    0],\n",
       "       [   5,   18,   19,   10,   14,    0,    0,  905,    4,   53],\n",
       "       [  10,   23,    6,   29,   16,   42,   14,    7,  819,    8],\n",
       "       [  10,    2,    1,   14,   68,    8,    5,   23,   12,  866]],\n",
       "      dtype=int64)"
      ]
     },
     "metadata": {},
     "execution_count": 21
    }
   ],
   "source": [
    "confusion_matrix(df_test[\"label\"].values, guessed)"
   ]
  },
  {
   "cell_type": "code",
   "execution_count": null,
   "metadata": {},
   "outputs": [],
   "source": []
  }
 ]
}