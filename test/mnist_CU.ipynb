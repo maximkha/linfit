{
 "metadata": {
  "language_info": {
   "codemirror_mode": {
    "name": "ipython",
    "version": 3
   },
   "file_extension": ".py",
   "mimetype": "text/x-python",
   "name": "python",
   "nbconvert_exporter": "python",
   "pygments_lexer": "ipython3",
   "version": "3.8.0"
  },
  "orig_nbformat": 2,
  "kernelspec": {
   "name": "python380jvsc74a57bd0c4a6cc1c2df5ddd62d6925b2a7bdee9abacf912eab37272999970e810b9642fd",
   "display_name": "Python 3.8.0 64-bit"
  }
 },
 "nbformat": 4,
 "nbformat_minor": 2,
 "cells": [
  {
   "cell_type": "code",
   "execution_count": 1,
   "metadata": {},
   "outputs": [],
   "source": [
    "import pandas as pd\n",
    "import numpy as np\n",
    "import sys\n",
    "import torch"
   ]
  },
  {
   "cell_type": "code",
   "execution_count": 2,
   "metadata": {},
   "outputs": [],
   "source": [
    "df_train = pd.read_csv(r\"C:\\Users\\maxim\\Desktop\\js\\linfit\\test\\archive\\mnist_train.csv\")\n",
    "df_test = pd.read_csv(r\"C:\\Users\\maxim\\Desktop\\js\\linfit\\test\\archive\\mnist_test.csv\")"
   ]
  },
  {
   "cell_type": "code",
   "execution_count": 3,
   "metadata": {},
   "outputs": [
    {
     "output_type": "stream",
     "name": "stdout",
     "text": [
      "check0\n",
      "check1\n",
      "check2\n"
     ]
    }
   ],
   "source": [
    "xcolnams = df_train.columns.tolist()\n",
    "print(\"check0\")\n",
    "df_train[xcolnams[1:]] /= 255. #convert the pixel values to 0..1\n",
    "print(\"check1\")\n",
    "\n",
    "df_train[\"ones\"] = 1.\n",
    "xcolnams += [\"ones\"]\n",
    "Xs_train = torch.tensor(df_train[xcolnams[1:]].values.T).float().cuda()\n",
    "print(\"check2\")"
   ]
  },
  {
   "cell_type": "code",
   "execution_count": 4,
   "metadata": {},
   "outputs": [],
   "source": [
    "ycolnams = []\n",
    "for i in range(10):\n",
    "    coln = \"is\"+str(i)\n",
    "    ycolnams.append(coln)\n",
    "    df_train[coln] = (df_train[\"label\"] == i).astype(float)"
   ]
  },
  {
   "cell_type": "code",
   "execution_count": 5,
   "metadata": {},
   "outputs": [
    {
     "output_type": "stream",
     "name": "stdout",
     "text": [
      "check0\n",
      "check1\n",
      "check2\n"
     ]
    }
   ],
   "source": [
    "xcolnams = df_test.columns.tolist()\n",
    "print(\"check0\")\n",
    "df_test[xcolnams[1:]] /= 255. #convert the pixel values to 0..1\n",
    "print(\"check1\")\n",
    "\n",
    "df_test[\"ones\"] = 1.\n",
    "xcolnams += [\"ones\"]\n",
    "Xs_test = torch.tensor(df_test[xcolnams[1:]].values.T).float().cuda()\n",
    "print(\"check2\")"
   ]
  },
  {
   "cell_type": "code",
   "execution_count": 6,
   "metadata": {},
   "outputs": [],
   "source": [
    "ycolnams = []\n",
    "for i in range(10):\n",
    "    coln = \"is\"+str(i)\n",
    "    ycolnams.append(coln)\n",
    "    df_test[coln] = (df_test[\"label\"] == i).astype(float)"
   ]
  },
  {
   "cell_type": "code",
   "execution_count": 7,
   "metadata": {},
   "outputs": [],
   "source": [
    "Ys_train = torch.tensor(df_train[ycolnams + [\"ones\"]].values.T).float().cuda()"
   ]
  },
  {
   "cell_type": "code",
   "execution_count": 8,
   "metadata": {},
   "outputs": [],
   "source": [
    "Ys_test = torch.tensor(df_test[ycolnams + [\"ones\"]].values.T).float().cuda()"
   ]
  },
  {
   "cell_type": "code",
   "execution_count": 9,
   "metadata": {},
   "outputs": [],
   "source": [
    "sys.path.append(r\"C:\\Users\\maxim\\Desktop\\js\\linfit\")\n",
    "from torch_linfit import lay, lay_holder"
   ]
  },
  {
   "cell_type": "code",
   "execution_count": 10,
   "metadata": {},
   "outputs": [
    {
     "output_type": "execute_result",
     "data": {
      "text/plain": [
       "torch.Size([11, 60000])"
      ]
     },
     "metadata": {},
     "execution_count": 10
    }
   ],
   "source": [
    "Ys_train.shape"
   ]
  },
  {
   "cell_type": "code",
   "execution_count": 39,
   "metadata": {},
   "outputs": [],
   "source": [
    "model = lay_holder([lay(784,400), lay(400,10)]) \n",
    "#model = lay_holder([lay(784,10, False)])"
   ]
  },
  {
   "cell_type": "code",
   "execution_count": null,
   "metadata": {},
   "outputs": [],
   "source": []
  },
  {
   "cell_type": "code",
   "execution_count": 40,
   "metadata": {},
   "outputs": [
    {
     "output_type": "stream",
     "name": "stdout",
     "text": [
      "Back\n",
      "tensor(0.0221, device='cuda:0')\n",
      "tensor(0.1866, device='cuda:0')\n",
      "Front\n",
      "tensor(0.0429, device='cuda:0')\n",
      "tensor(0.0108, device='cuda:0')\n"
     ]
    }
   ],
   "source": [
    "NTR = 1\n",
    "for j in range(NTR):\n",
    "    print(\"Back\")\n",
    "    for i in range(len(model.layers)):\n",
    "        model.solve_update(Xs_train, Ys_train, n=len(model.layers)-i)\n",
    "        forw = model.forward(Xs_train)\n",
    "        mse = torch.mean((forw[0,:] - Ys_train[0,:])**2)\n",
    "        print(mse)\n",
    "\n",
    "    print(\"Front\")\n",
    "    for i in range(len(model.layers)):\n",
    "        model.solve_update(Xs_train, Ys_train, n=i + 1)\n",
    "        forw = model.forward(Xs_train)\n",
    "        #print(forw.shape)\n",
    "        mse = torch.mean((forw[0,:] - Ys_train[0,:])**2)\n",
    "        print(mse)"
   ]
  },
  {
   "cell_type": "code",
   "execution_count": 41,
   "metadata": {},
   "outputs": [],
   "source": [
    "forw = model.forward(Xs_train)\n",
    "# #print(forw.shape)\n",
    "# mse = np.mean((forw[0,:] - Ys_train[0,:])**2)\n",
    "\n",
    "guessed = torch.argmax(forw[:-1,:], axis=0).cpu().numpy()\n",
    "# print(mse)"
   ]
  },
  {
   "cell_type": "code",
   "execution_count": 42,
   "metadata": {},
   "outputs": [
    {
     "output_type": "execute_result",
     "data": {
      "text/plain": [
       "array([5, 0, 4, ..., 5, 6, 8], dtype=int64)"
      ]
     },
     "metadata": {},
     "execution_count": 42
    }
   ],
   "source": [
    "guessed"
   ]
  },
  {
   "cell_type": "code",
   "execution_count": 43,
   "metadata": {},
   "outputs": [
    {
     "output_type": "execute_result",
     "data": {
      "text/plain": [
       "0.8946666666666667"
      ]
     },
     "metadata": {},
     "execution_count": 43
    }
   ],
   "source": [
    "sum(guessed == df_train[\"label\"].values) / len(guessed)"
   ]
  },
  {
   "cell_type": "code",
   "execution_count": 44,
   "metadata": {},
   "outputs": [
    {
     "output_type": "execute_result",
     "data": {
      "text/plain": [
       "0.1"
      ]
     },
     "metadata": {},
     "execution_count": 44
    }
   ],
   "source": [
    "1/10"
   ]
  },
  {
   "cell_type": "code",
   "execution_count": 45,
   "metadata": {},
   "outputs": [],
   "source": [
    "from sklearn.metrics import confusion_matrix"
   ]
  },
  {
   "cell_type": "code",
   "execution_count": 46,
   "metadata": {},
   "outputs": [
    {
     "output_type": "execute_result",
     "data": {
      "text/plain": [
       "array([[5713,    2,   36,   21,    9,   32,   44,   10,   53,    3],\n",
       "       [   1, 6431,   59,   18,   24,   23,    5,   31,  141,    9],\n",
       "       [  80,   54, 5252,  114,   97,   18,  122,   64,  126,   31],\n",
       "       [  25,   50,  199, 5162,   18,  313,   23,  104,  175,   62],\n",
       "       [  10,   34,   57,    8, 5335,   24,   60,   13,   43,  258],\n",
       "       [  78,   20,   58,  296,   36, 4474,  106,   53,  252,   48],\n",
       "       [  56,   16,   71,   11,   38,  107, 5574,    4,   37,    4],\n",
       "       [  25,   93,   73,   27,  108,   26,    3, 5712,   11,  187],\n",
       "       [  35,  240,   83,  202,   62,  211,   53,   20, 4853,   92],\n",
       "       [  38,   29,   40,   94,  256,   52,    5,  195,   66, 5174]],\n",
       "      dtype=int64)"
      ]
     },
     "metadata": {},
     "execution_count": 46
    }
   ],
   "source": [
    "confusion_matrix(df_train[\"label\"].values, guessed)"
   ]
  },
  {
   "cell_type": "code",
   "execution_count": 47,
   "metadata": {},
   "outputs": [],
   "source": [
    "forw = model.forward(Xs_test)\n",
    "# #print(forw.shape)\n",
    "# mse = np.mean((forw[0,:] - Ys_train[0,:])**2)\n",
    "\n",
    "guessed = torch.argmax(forw[:-1,:], axis=0).cpu().numpy()\n",
    "# print(mse)"
   ]
  },
  {
   "cell_type": "code",
   "execution_count": 48,
   "metadata": {},
   "outputs": [
    {
     "output_type": "execute_result",
     "data": {
      "text/plain": [
       "0.8935"
      ]
     },
     "metadata": {},
     "execution_count": 48
    }
   ],
   "source": [
    "sum(guessed == df_test[\"label\"].values) / len(guessed)"
   ]
  },
  {
   "cell_type": "code",
   "execution_count": 49,
   "metadata": {},
   "outputs": [
    {
     "output_type": "execute_result",
     "data": {
      "text/plain": [
       "array([[ 956,    0,    2,    1,    0,    5,   10,    1,    5,    0],\n",
       "       [   0, 1098,    4,    4,    1,    1,    3,    3,   21,    0],\n",
       "       [  13,    7,  898,   23,   20,    2,   25,   13,   26,    5],\n",
       "       [   4,    4,   24,  862,    3,   56,    1,   19,   28,    9],\n",
       "       [   1,    6,    8,    0,  901,    1,   12,    4,   10,   39],\n",
       "       [  13,    3,    6,   47,    9,  739,   13,   14,   43,    5],\n",
       "       [  14,    4,   11,    1,    9,   20,  891,    1,    6,    1],\n",
       "       [   2,   18,   20,    7,   12,    0,    1,  918,    4,   46],\n",
       "       [  12,   24,    8,   42,   19,   36,   13,    5,  804,   11],\n",
       "       [  10,    8,    4,   10,   51,    7,    0,   34,   17,  868]],\n",
       "      dtype=int64)"
      ]
     },
     "metadata": {},
     "execution_count": 49
    }
   ],
   "source": [
    "confusion_matrix(df_test[\"label\"].values, guessed)"
   ]
  },
  {
   "cell_type": "code",
   "execution_count": null,
   "metadata": {},
   "outputs": [],
   "source": []
  }
 ]
}