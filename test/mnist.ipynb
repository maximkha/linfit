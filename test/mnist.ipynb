{
 "metadata": {
  "language_info": {
   "codemirror_mode": {
    "name": "ipython",
    "version": 3
   },
   "file_extension": ".py",
   "mimetype": "text/x-python",
   "name": "python",
   "nbconvert_exporter": "python",
   "pygments_lexer": "ipython3",
   "version": "3.8.0"
  },
  "orig_nbformat": 2,
  "kernelspec": {
   "name": "python380jvsc74a57bd0c4a6cc1c2df5ddd62d6925b2a7bdee9abacf912eab37272999970e810b9642fd",
   "display_name": "Python 3.8.0 64-bit"
  }
 },
 "nbformat": 4,
 "nbformat_minor": 2,
 "cells": [
  {
   "cell_type": "code",
   "execution_count": 1,
   "metadata": {},
   "outputs": [],
   "source": [
    "import pandas as pd\n",
    "import numpy as np\n",
    "import sys"
   ]
  },
  {
   "cell_type": "code",
   "execution_count": 2,
   "metadata": {},
   "outputs": [],
   "source": [
    "df_train = pd.read_csv(r\"C:\\Users\\maxim\\Desktop\\js\\linfit\\test\\archive\\mnist_train.csv\")\n",
    "df_test = pd.read_csv(r\"C:\\Users\\maxim\\Desktop\\js\\linfit\\test\\archive\\mnist_test.csv\")"
   ]
  },
  {
   "cell_type": "code",
   "execution_count": 3,
   "metadata": {},
   "outputs": [
    {
     "output_type": "stream",
     "name": "stdout",
     "text": [
      "check0\n",
      "check1\n",
      "check2\n"
     ]
    }
   ],
   "source": [
    "xcolnams = df_train.columns.tolist()\n",
    "print(\"check0\")\n",
    "df_train[xcolnams[1:]] /= 255. #convert the pixel values to 0..1\n",
    "print(\"check1\")\n",
    "\n",
    "df_train[\"ones\"] = 1.\n",
    "xcolnams += [\"ones\"]\n",
    "Xs_train = df_train[xcolnams[1:]].values.T\n",
    "print(\"check2\")"
   ]
  },
  {
   "cell_type": "code",
   "execution_count": 4,
   "metadata": {},
   "outputs": [],
   "source": [
    "ycolnams = []\n",
    "for i in range(10):\n",
    "    coln = \"is\"+str(i)\n",
    "    ycolnams.append(coln)\n",
    "    df_train[coln] = (df_train[\"label\"] == i).astype(float)"
   ]
  },
  {
   "cell_type": "code",
   "execution_count": 5,
   "metadata": {},
   "outputs": [
    {
     "output_type": "stream",
     "name": "stdout",
     "text": [
      "check0\n",
      "check1\n",
      "check2\n"
     ]
    }
   ],
   "source": [
    "xcolnams = df_test.columns.tolist()\n",
    "print(\"check0\")\n",
    "df_test[xcolnams[1:]] /= 255. #convert the pixel values to 0..1\n",
    "print(\"check1\")\n",
    "\n",
    "df_test[\"ones\"] = 1.\n",
    "xcolnams += [\"ones\"]\n",
    "Xs_test = df_test[xcolnams[1:]].values.T\n",
    "print(\"check2\")"
   ]
  },
  {
   "cell_type": "code",
   "execution_count": 6,
   "metadata": {},
   "outputs": [],
   "source": [
    "ycolnams = []\n",
    "for i in range(10):\n",
    "    coln = \"is\"+str(i)\n",
    "    ycolnams.append(coln)\n",
    "    df_test[coln] = (df_test[\"label\"] == i).astype(float)"
   ]
  },
  {
   "cell_type": "code",
   "execution_count": 7,
   "metadata": {},
   "outputs": [],
   "source": [
    "Ys_train = df_train[ycolnams + [\"ones\"]].values.T"
   ]
  },
  {
   "cell_type": "code",
   "execution_count": 8,
   "metadata": {},
   "outputs": [],
   "source": [
    "Ys_test = df_test[ycolnams + [\"ones\"]].values.T"
   ]
  },
  {
   "cell_type": "code",
   "execution_count": 9,
   "metadata": {},
   "outputs": [],
   "source": [
    "sys.path.append(r\"C:\\Users\\maxim\\Desktop\\js\\linfit\")\n",
    "from linfit import lay, lay_holder"
   ]
  },
  {
   "cell_type": "code",
   "execution_count": 10,
   "metadata": {},
   "outputs": [
    {
     "output_type": "execute_result",
     "data": {
      "text/plain": [
       "(11, 60000)"
      ]
     },
     "metadata": {},
     "execution_count": 10
    }
   ],
   "source": [
    "Ys_train.shape"
   ]
  },
  {
   "cell_type": "code",
   "execution_count": 11,
   "metadata": {},
   "outputs": [],
   "source": [
    "model = lay_holder([lay(784,128), lay(128,10)]) \n",
    "#model = lay_holder([lay(784,10, False)])"
   ]
  },
  {
   "cell_type": "code",
   "execution_count": 12,
   "metadata": {},
   "outputs": [
    {
     "output_type": "stream",
     "name": "stdout",
     "text": [
      "Back\n",
      "doing back\n",
      "    0.00 ns in backward_mult(<linfit.lay_holder obj..., 0)\n",
      "doing mult\n",
      "doing forward\n",
      "  179.00 ms in forward(<linfit.lay object at ..., [[0. 0. 0. ... 0. 0. 0...)\n",
      "  181.00 ms in forward(<linfit.lay_holder obj..., [[0. 0. 0. ... 0. 0. 0..., 1)\n",
      "doing solve\n",
      "(129, 60000)\n",
      "(11, 60000)\n",
      "  993.00 ms in appx_solve([[57.96558634 62.66793..., [[0. 1. 0. ... 0. 0. 0...)\n",
      "    1.18 s in solve_lay(<linfit.lay_holder obj..., [[0. 0. 0. ... 0. 0. 0..., [[0. 1. 0. ... 0. 0. 0..., 2)\n",
      "    0.00 ns in update(<linfit.lay object at ..., [[-4.30628933e-03 9.08...)\n",
      "    1.18 s in solve_update(<linfit.lay_holder obj..., [[0. 0. 0. ... 0. 0. 0..., [[0. 1. 0. ... 0. 0. 0..., n=2)\n",
      "  157.00 ms in forward(<linfit.lay object at ..., [[0. 0. 0. ... 0. 0. 0...)\n",
      "   11.00 ms in forward(<linfit.lay object at ..., [[57.96558634 62.66793...)\n",
      "  171.00 ms in forward(<linfit.lay_holder obj..., [[0. 0. 0. ... 0. 0. 0...)\n",
      "0.024722895922232653\n",
      "doing back\n",
      "    0.00 ns in backward_mult(<linfit.lay_holder obj..., 1)\n",
      "doing mult\n",
      "doing forward\n",
      "    0.00 ns in forward(<linfit.lay_holder obj..., [[0. 0. 0. ... 0. 0. 0..., 0)\n",
      "doing solve\n",
      "(785, 60000)\n",
      "(129, 60000)\n",
      "    6.68 s in appx_solve([[0. 0. 0. ... 0. 0. 0..., [[ 0.25404671 -0.05558...)\n",
      "    6.70 s in solve_lay(<linfit.lay_holder obj..., [[0. 0. 0. ... 0. 0. 0..., [[0. 1. 0. ... 0. 0. 0..., 1)\n",
      "    0.00 ns in update(<linfit.lay object at ..., [[-4.83438179e-14 4.55...)\n",
      "    6.70 s in solve_update(<linfit.lay_holder obj..., [[0. 0. 0. ... 0. 0. 0..., [[0. 1. 0. ... 0. 0. 0..., n=1)\n",
      "  188.00 ms in forward(<linfit.lay object at ..., [[0. 0. 0. ... 0. 0. 0...)\n",
      "   12.00 ms in forward(<linfit.lay object at ..., [[0.54530592 0. 0. ......)\n",
      "  205.00 ms in forward(<linfit.lay_holder obj..., [[0. 0. 0. ... 0. 0. 0...)\n",
      "0.04120416647294239\n",
      "Front\n",
      "doing back\n",
      "    0.00 ns in backward_mult(<linfit.lay_holder obj..., 1)\n",
      "doing mult\n",
      "doing forward\n",
      "    0.00 ns in forward(<linfit.lay_holder obj..., [[0. 0. 0. ... 0. 0. 0..., 0)\n",
      "doing solve\n",
      "(785, 60000)\n",
      "(129, 60000)\n",
      "    6.71 s in appx_solve([[0. 0. 0. ... 0. 0. 0..., [[ 0.25404671 -0.05558...)\n",
      "    6.73 s in solve_lay(<linfit.lay_holder obj..., [[0. 0. 0. ... 0. 0. 0..., [[0. 1. 0. ... 0. 0. 0..., 1)\n",
      "  996.83 mks in update(<linfit.lay object at ..., [[-4.83438179e-14 4.55...)\n",
      "    6.73 s in solve_update(<linfit.lay_holder obj..., [[0. 0. 0. ... 0. 0. 0..., [[0. 1. 0. ... 0. 0. 0..., n=1)\n",
      "  193.00 ms in forward(<linfit.lay object at ..., [[0. 0. 0. ... 0. 0. 0...)\n",
      "   10.00 ms in forward(<linfit.lay object at ..., [[0.54530592 0. 0. ......)\n",
      "  207.00 ms in forward(<linfit.lay_holder obj..., [[0. 0. 0. ... 0. 0. 0...)\n",
      "0.04120416647294239\n",
      "doing back\n",
      "    0.00 ns in backward_mult(<linfit.lay_holder obj..., 0)\n",
      "doing mult\n",
      "doing forward\n",
      "  170.00 ms in forward(<linfit.lay object at ..., [[0. 0. 0. ... 0. 0. 0...)\n",
      "  171.00 ms in forward(<linfit.lay_holder obj..., [[0. 0. 0. ... 0. 0. 0..., 1)\n",
      "doing solve\n",
      "(129, 60000)\n",
      "(11, 60000)\n",
      "  944.00 ms in appx_solve([[0.54530592 0. 0. ......, [[0. 1. 0. ... 0. 0. 0...)\n",
      "    1.12 s in solve_lay(<linfit.lay_holder obj..., [[0. 0. 0. ... 0. 0. 0..., [[0. 1. 0. ... 0. 0. 0..., 2)\n",
      "    0.00 ns in update(<linfit.lay object at ..., [[-2.11851017e-02 2.08...)\n",
      "    1.12 s in solve_update(<linfit.lay_holder obj..., [[0. 0. 0. ... 0. 0. 0..., [[0. 1. 0. ... 0. 0. 0..., n=2)\n",
      "  208.00 ms in forward(<linfit.lay object at ..., [[0. 0. 0. ... 0. 0. 0...)\n",
      "   12.00 ms in forward(<linfit.lay object at ..., [[0.54530592 0. 0. ......)\n",
      "  225.00 ms in forward(<linfit.lay_holder obj..., [[0. 0. 0. ... 0. 0. 0...)\n",
      "0.012472399124537556\n"
     ]
    }
   ],
   "source": [
    "NTR = 1\n",
    "for j in range(NTR):\n",
    "    print(\"Back\")\n",
    "    for i in range(len(model.layers)):\n",
    "        model.solve_update(Xs_train, Ys_train, n=len(model.layers)-i)\n",
    "        forw = model.forward(Xs_train)\n",
    "        mse = np.mean((forw[0,:] - Ys_train[0,:])**2)\n",
    "        print(mse)\n",
    "\n",
    "    print(\"Front\")\n",
    "    for i in range(len(model.layers)):\n",
    "        model.solve_update(Xs_train, Ys_train, n=i + 1)\n",
    "        forw = model.forward(Xs_train)\n",
    "        #print(forw.shape)\n",
    "        mse = np.mean((forw[0,:] - Ys_train[0,:])**2)\n",
    "        print(mse)"
   ]
  },
  {
   "cell_type": "code",
   "execution_count": 13,
   "metadata": {},
   "outputs": [
    {
     "output_type": "stream",
     "name": "stdout",
     "text": [
      "  212.00 ms in forward(<linfit.lay object at ..., [[0. 0. 0. ... 0. 0. 0...)\n   12.00 ms in forward(<linfit.lay object at ..., [[0.54530592 0. 0. ......)\n  228.00 ms in forward(<linfit.lay_holder obj..., [[0. 0. 0. ... 0. 0. 0...)\n"
     ]
    }
   ],
   "source": [
    "forw = model.forward(Xs_train)\n",
    "# #print(forw.shape)\n",
    "# mse = np.mean((forw[0,:] - Ys_train[0,:])**2)\n",
    "\n",
    "guessed = np.argmax(forw[:-1,:], axis=0)\n",
    "# print(mse)"
   ]
  },
  {
   "cell_type": "code",
   "execution_count": 14,
   "metadata": {},
   "outputs": [
    {
     "output_type": "execute_result",
     "data": {
      "text/plain": [
       "0.8968333333333334"
      ]
     },
     "metadata": {},
     "execution_count": 14
    }
   ],
   "source": [
    "sum(guessed == df_train[\"label\"].values) / len(guessed)"
   ]
  },
  {
   "cell_type": "code",
   "execution_count": 15,
   "metadata": {},
   "outputs": [
    {
     "output_type": "execute_result",
     "data": {
      "text/plain": [
       "0.1"
      ]
     },
     "metadata": {},
     "execution_count": 15
    }
   ],
   "source": [
    "1/10"
   ]
  },
  {
   "cell_type": "code",
   "execution_count": 16,
   "metadata": {},
   "outputs": [],
   "source": [
    "from sklearn.metrics import confusion_matrix"
   ]
  },
  {
   "cell_type": "code",
   "execution_count": 17,
   "metadata": {},
   "outputs": [
    {
     "output_type": "execute_result",
     "data": {
      "text/plain": [
       "array([[5710,    4,   38,   10,    8,   57,   35,    7,   51,    3],\n",
       "       [   2, 6486,   59,   22,   12,   22,    3,   19,  111,    6],\n",
       "       [  64,   80, 5283,  110,   87,   13,  118,   56,  125,   22],\n",
       "       [  27,   46,  198, 5269,   13,  239,   12,   91,  153,   83],\n",
       "       [  11,   43,   43,    1, 5337,   29,   52,   13,   59,  254],\n",
       "       [  89,   31,   52,  220,   36, 4527,  112,   40,  263,   51],\n",
       "       [  65,   27,   69,    1,   32,   98, 5569,    3,   51,    3],\n",
       "       [  26,   85,   86,   48,  102,   16,    2, 5707,   19,  174],\n",
       "       [  40,  267,   88,  199,   62,  219,   49,   13, 4812,  102],\n",
       "       [  51,   13,   28,   88,  305,   49,    4,  244,   57, 5110]],\n",
       "      dtype=int64)"
      ]
     },
     "metadata": {},
     "execution_count": 17
    }
   ],
   "source": [
    "confusion_matrix(df_train[\"label\"].values, guessed)"
   ]
  },
  {
   "cell_type": "code",
   "execution_count": 18,
   "metadata": {},
   "outputs": [
    {
     "output_type": "stream",
     "name": "stdout",
     "text": [
      "   37.00 ms in forward(<linfit.lay object at ..., [[0. 0. 0. ... 0. 0. 0...)\n    4.00 ms in forward(<linfit.lay object at ..., [[0. 1.50432816 0.4779...)\n   44.00 ms in forward(<linfit.lay_holder obj..., [[0. 0. 0. ... 0. 0. 0...)\n"
     ]
    }
   ],
   "source": [
    "forw = model.forward(Xs_test)\n",
    "# #print(forw.shape)\n",
    "# mse = np.mean((forw[0,:] - Ys_train[0,:])**2)\n",
    "\n",
    "guessed = np.argmax(forw[:-1,:], axis=0)\n",
    "# print(mse)"
   ]
  },
  {
   "cell_type": "code",
   "execution_count": 19,
   "metadata": {},
   "outputs": [
    {
     "output_type": "execute_result",
     "data": {
      "text/plain": [
       "0.8946"
      ]
     },
     "metadata": {},
     "execution_count": 19
    }
   ],
   "source": [
    "sum(guessed == df_test[\"label\"].values) / len(guessed)"
   ]
  },
  {
   "cell_type": "code",
   "execution_count": 20,
   "metadata": {},
   "outputs": [
    {
     "output_type": "execute_result",
     "data": {
      "text/plain": [
       "array([[ 954,    0,    1,    1,    0,   10,    6,    3,    5,    0],\n",
       "       [   0, 1098,    6,    5,    1,    1,    3,    1,   20,    0],\n",
       "       [  11,   15,  906,   20,   11,    4,   21,   14,   26,    4],\n",
       "       [   6,    2,   25,  887,    3,   34,    2,   17,   25,    9],\n",
       "       [   1,   11,    4,    0,  902,    0,   14,    4,    8,   38],\n",
       "       [  16,    5,    8,   43,    9,  735,   11,   15,   45,    5],\n",
       "       [  15,    4,   10,    0,   11,   21,  887,    1,    9,    0],\n",
       "       [   3,   20,   25,    9,   16,    0,    1,  904,    1,   49],\n",
       "       [   9,   23,    9,   31,   17,   42,   13,    8,  812,   10],\n",
       "       [  10,    4,    2,   14,   57,    9,    1,   37,   14,  861]],\n",
       "      dtype=int64)"
      ]
     },
     "metadata": {},
     "execution_count": 20
    }
   ],
   "source": [
    "confusion_matrix(df_test[\"label\"].values, guessed)"
   ]
  }
 ]
}