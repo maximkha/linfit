{
 "metadata": {
  "language_info": {
   "codemirror_mode": {
    "name": "ipython",
    "version": 3
   },
   "file_extension": ".py",
   "mimetype": "text/x-python",
   "name": "python",
   "nbconvert_exporter": "python",
   "pygments_lexer": "ipython3",
   "version": "3.8.0"
  },
  "orig_nbformat": 2,
  "kernelspec": {
   "name": "python380jvsc74a57bd0c4a6cc1c2df5ddd62d6925b2a7bdee9abacf912eab37272999970e810b9642fd",
   "display_name": "Python 3.8.0 64-bit"
  }
 },
 "nbformat": 4,
 "nbformat_minor": 2,
 "cells": [
  {
   "cell_type": "code",
   "execution_count": 1,
   "metadata": {},
   "outputs": [],
   "source": [
    "import pandas as pd\n",
    "import numpy as np\n",
    "import sys"
   ]
  },
  {
   "cell_type": "code",
   "execution_count": 2,
   "metadata": {},
   "outputs": [],
   "source": [
    "df_train = pd.read_csv(r\"C:\\Users\\maxim\\Desktop\\js\\linfit\\test\\archive\\mnist_train.csv\")\n",
    "df_test = pd.read_csv(r\"C:\\Users\\maxim\\Desktop\\js\\linfit\\test\\archive\\mnist_test.csv\")"
   ]
  },
  {
   "cell_type": "code",
   "execution_count": 3,
   "metadata": {},
   "outputs": [
    {
     "output_type": "stream",
     "name": "stdout",
     "text": [
      "check0\n",
      "check1\n",
      "check2\n"
     ]
    }
   ],
   "source": [
    "xcolnams = df_train.columns.tolist()\n",
    "print(\"check0\")\n",
    "df_train[xcolnams[1:]] /= 255. #convert the pixel values to 0..1\n",
    "print(\"check1\")\n",
    "\n",
    "df_train[\"ones\"] = 1.\n",
    "xcolnams += [\"ones\"]\n",
    "Xs_train = df_train[xcolnams[1:]].values.T\n",
    "print(\"check2\")"
   ]
  },
  {
   "cell_type": "code",
   "execution_count": 4,
   "metadata": {},
   "outputs": [],
   "source": [
    "ycolnams = []\n",
    "for i in range(10):\n",
    "    coln = \"is\"+str(i)\n",
    "    ycolnams.append(coln)\n",
    "    df_train[coln] = (df_train[\"label\"] == i).astype(float)"
   ]
  },
  {
   "cell_type": "code",
   "execution_count": 5,
   "metadata": {},
   "outputs": [
    {
     "output_type": "stream",
     "name": "stdout",
     "text": [
      "check0\n",
      "check1\n",
      "check2\n"
     ]
    }
   ],
   "source": [
    "xcolnams = df_test.columns.tolist()\n",
    "print(\"check0\")\n",
    "df_test[xcolnams[1:]] /= 255. #convert the pixel values to 0..1\n",
    "print(\"check1\")\n",
    "\n",
    "df_test[\"ones\"] = 1.\n",
    "xcolnams += [\"ones\"]\n",
    "Xs_test = df_test[xcolnams[1:]].values.T\n",
    "print(\"check2\")"
   ]
  },
  {
   "cell_type": "code",
   "execution_count": 6,
   "metadata": {},
   "outputs": [],
   "source": [
    "ycolnams = []\n",
    "for i in range(10):\n",
    "    coln = \"is\"+str(i)\n",
    "    ycolnams.append(coln)\n",
    "    df_test[coln] = (df_test[\"label\"] == i).astype(float)"
   ]
  },
  {
   "cell_type": "code",
   "execution_count": 7,
   "metadata": {},
   "outputs": [],
   "source": [
    "Ys_train = df_train[ycolnams + [\"ones\"]].values.T"
   ]
  },
  {
   "cell_type": "code",
   "execution_count": 8,
   "metadata": {},
   "outputs": [],
   "source": [
    "Ys_test = df_test[ycolnams + [\"ones\"]].values.T"
   ]
  },
  {
   "cell_type": "code",
   "execution_count": 9,
   "metadata": {},
   "outputs": [],
   "source": [
    "sys.path.append(r\"C:\\Users\\maxim\\Desktop\\js\\linfit\")\n",
    "from linfit import lay, lay_holder"
   ]
  },
  {
   "cell_type": "code",
   "execution_count": 10,
   "metadata": {},
   "outputs": [
    {
     "output_type": "execute_result",
     "data": {
      "text/plain": [
       "(11, 60000)"
      ]
     },
     "metadata": {},
     "execution_count": 10
    }
   ],
   "source": [
    "Ys_train.shape"
   ]
  },
  {
   "cell_type": "code",
   "execution_count": 11,
   "metadata": {},
   "outputs": [],
   "source": [
    "model = lay_holder([lay(784,128), lay(128,10)]) \n",
    "#model = lay_holder([lay(784,10, False)])"
   ]
  },
  {
   "cell_type": "code",
   "execution_count": 12,
   "metadata": {},
   "outputs": [
    {
     "output_type": "stream",
     "name": "stdout",
     "text": [
      "Back\n",
      "(129, 60000)\n",
      "(11, 60000)\n",
      "0.02540575039442626\n",
      "(785, 60000)\n",
      "(129, 60000)\n",
      "0.042749748038969776\n",
      "Front\n",
      "(785, 60000)\n",
      "(129, 60000)\n",
      "0.042749748038969776\n",
      "(129, 60000)\n",
      "(11, 60000)\n",
      "0.01209476244232468\n",
      "Took 19.011941199999967s\n"
     ]
    }
   ],
   "source": [
    "import timeit\n",
    "start_time = timeit.default_timer()\n",
    "NTR = 1\n",
    "for j in range(NTR):\n",
    "    print(\"Back\")\n",
    "    for i in range(len(model.layers)):\n",
    "        model.solve_update(Xs_train, Ys_train, n=len(model.layers)-i)\n",
    "        forw = model.forward(Xs_train)\n",
    "        mse = np.mean((forw[0,:] - Ys_train[0,:])**2)\n",
    "        print(mse)\n",
    "\n",
    "    print(\"Front\")\n",
    "    for i in range(len(model.layers)):\n",
    "        model.solve_update(Xs_train, Ys_train, n=i + 1)\n",
    "        forw = model.forward(Xs_train)\n",
    "        #print(forw.shape)\n",
    "        mse = np.mean((forw[0,:] - Ys_train[0,:])**2)\n",
    "        print(mse)\n",
    "elapsed = timeit.default_timer() - start_time\n",
    "print(f\"Took {elapsed}s\")"
   ]
  },
  {
   "cell_type": "code",
   "execution_count": 13,
   "metadata": {},
   "outputs": [],
   "source": [
    "forw = model.forward(Xs_train)\n",
    "# #print(forw.shape)\n",
    "# mse = np.mean((forw[0,:] - Ys_train[0,:])**2)\n",
    "\n",
    "guessed = np.argmax(forw[:-1,:], axis=0)\n",
    "# print(mse)"
   ]
  },
  {
   "cell_type": "code",
   "execution_count": 14,
   "metadata": {},
   "outputs": [
    {
     "output_type": "execute_result",
     "data": {
      "text/plain": [
       "0.8979"
      ]
     },
     "metadata": {},
     "execution_count": 14
    }
   ],
   "source": [
    "sum(guessed == df_train[\"label\"].values) / len(guessed)"
   ]
  },
  {
   "cell_type": "code",
   "execution_count": 15,
   "metadata": {},
   "outputs": [
    {
     "output_type": "execute_result",
     "data": {
      "text/plain": [
       "0.1"
      ]
     },
     "metadata": {},
     "execution_count": 15
    }
   ],
   "source": [
    "1/10"
   ]
  },
  {
   "cell_type": "code",
   "execution_count": 16,
   "metadata": {},
   "outputs": [],
   "source": [
    "from sklearn.metrics import confusion_matrix"
   ]
  },
  {
   "cell_type": "code",
   "execution_count": 17,
   "metadata": {},
   "outputs": [
    {
     "output_type": "execute_result",
     "data": {
      "text/plain": [
       "array([[5717,    4,   39,    8,    6,   43,   55,    4,   43,    4],\n",
       "       [   2, 6480,   68,   21,   13,   17,    4,   16,  115,    6],\n",
       "       [  64,   75, 5288,  133,   67,    6,  134,   43,  125,   23],\n",
       "       [  17,   40,  186, 5305,   11,  225,   18,  109,  154,   66],\n",
       "       [   9,   39,   58,    4, 5313,   23,   70,    8,   68,  250],\n",
       "       [  98,   39,   47,  217,   31, 4529,  133,   40,  233,   54],\n",
       "       [  53,   29,   49,    2,   31,   90, 5639,    3,   21,    1],\n",
       "       [  27,  104,   73,   54,  116,   12,    0, 5655,   20,  204],\n",
       "       [  57,  255,   91,  201,   50,  225,   67,   14, 4774,  117],\n",
       "       [  50,   18,   35,   96,  250,   34,    6,  227,   59, 5174]],\n",
       "      dtype=int64)"
      ]
     },
     "metadata": {},
     "execution_count": 17
    }
   ],
   "source": [
    "confusion_matrix(df_train[\"label\"].values, guessed)"
   ]
  },
  {
   "cell_type": "code",
   "execution_count": 18,
   "metadata": {},
   "outputs": [],
   "source": [
    "forw = model.forward(Xs_test)\n",
    "# #print(forw.shape)\n",
    "# mse = np.mean((forw[0,:] - Ys_train[0,:])**2)\n",
    "\n",
    "guessed = np.argmax(forw[:-1,:], axis=0)\n",
    "# print(mse)"
   ]
  },
  {
   "cell_type": "code",
   "execution_count": 19,
   "metadata": {},
   "outputs": [
    {
     "output_type": "execute_result",
     "data": {
      "text/plain": [
       "0.8954"
      ]
     },
     "metadata": {},
     "execution_count": 19
    }
   ],
   "source": [
    "sum(guessed == df_test[\"label\"].values) / len(guessed)"
   ]
  },
  {
   "cell_type": "code",
   "execution_count": 20,
   "metadata": {},
   "outputs": [
    {
     "output_type": "execute_result",
     "data": {
      "text/plain": [
       "array([[ 951,    0,    3,    1,    0,    5,   14,    1,    5,    0],\n",
       "       [   0, 1100,    5,    4,    1,    1,    3,    2,   19,    0],\n",
       "       [  12,   17,  901,   23,   11,    2,   23,   10,   28,    5],\n",
       "       [   3,    1,   24,  891,    3,   31,    2,   17,   29,    9],\n",
       "       [   0,    5,    6,    0,  896,    0,   17,    2,   12,   44],\n",
       "       [  14,    5,    5,   45,    7,  734,   19,   16,   42,    5],\n",
       "       [  14,    4,   10,    0,   10,   18,  897,    0,    4,    1],\n",
       "       [   3,   19,   20,   11,   17,    0,    0,  908,    3,   47],\n",
       "       [  15,   27,    8,   31,   15,   36,   14,    7,  809,   12],\n",
       "       [  11,    6,    2,   15,   50,    6,    3,   36,   13,  867]],\n",
       "      dtype=int64)"
      ]
     },
     "metadata": {},
     "execution_count": 20
    }
   ],
   "source": [
    "confusion_matrix(df_test[\"label\"].values, guessed)"
   ]
  }
 ]
}