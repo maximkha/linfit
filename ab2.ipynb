{
 "metadata": {
  "language_info": {
   "codemirror_mode": {
    "name": "ipython",
    "version": 3
   },
   "file_extension": ".py",
   "mimetype": "text/x-python",
   "name": "python",
   "nbconvert_exporter": "python",
   "pygments_lexer": "ipython3",
   "version": "3.8.0"
  },
  "orig_nbformat": 2,
  "kernelspec": {
   "name": "python380jvsc74a57bd0c4a6cc1c2df5ddd62d6925b2a7bdee9abacf912eab37272999970e810b9642fd",
   "display_name": "Python 3.8.0 64-bit"
  }
 },
 "nbformat": 4,
 "nbformat_minor": 2,
 "cells": [
  {
   "cell_type": "code",
   "execution_count": 309,
   "metadata": {},
   "outputs": [],
   "source": [
    "import numpy as np"
   ]
  },
  {
   "cell_type": "code",
   "execution_count": 310,
   "metadata": {},
   "outputs": [],
   "source": [
    "def create_transform(x_dim, y_dim):\n",
    "    #account for bias\n",
    "    f_x = np.random.rand(y_dim + 1, x_dim + 1)\n",
    "    f_x[-1] = ([0]*x_dim) + [1]\n",
    "    return f_x"
   ]
  },
  {
   "cell_type": "code",
   "execution_count": 311,
   "metadata": {},
   "outputs": [],
   "source": [
    "#upscale\n",
    "up1 = create_transform(1,2) # 1d (+ bias) -> 2d\n",
    "up2 = create_transform(2,3) # 2d (+ bias) -> 3d\n",
    "#then downscale\n",
    "down1 = create_transform(3,2)\n",
    "down2 = create_transform(2,1)"
   ]
  },
  {
   "cell_type": "code",
   "execution_count": 312,
   "metadata": {},
   "outputs": [
    {
     "output_type": "execute_result",
     "data": {
      "text/plain": [
       "array([[0.41694524, 1.41692947],\n",
       "       [0.        , 1.        ]])"
      ]
     },
     "metadata": {},
     "execution_count": 312
    }
   ],
   "source": [
    "# the whole transform collapses into a simple single matrix\n",
    "down2 @ down1 @ up2 @ up1"
   ]
  },
  {
   "cell_type": "code",
   "execution_count": 313,
   "metadata": {},
   "outputs": [
    {
     "output_type": "execute_result",
     "data": {
      "text/plain": [
       "array([[0.27559195, 1.        ],\n",
       "       [0.64467367, 1.        ],\n",
       "       [0.2186393 , 1.        ],\n",
       "       [0.34027027, 1.        ],\n",
       "       [0.91802133, 1.        ],\n",
       "       [0.35644021, 1.        ],\n",
       "       [0.57795113, 1.        ],\n",
       "       [0.17909018, 1.        ],\n",
       "       [0.75802954, 1.        ],\n",
       "       [0.68819548, 1.        ],\n",
       "       [0.76428694, 1.        ],\n",
       "       [0.48635742, 1.        ],\n",
       "       [0.35913533, 1.        ],\n",
       "       [0.07296787, 1.        ],\n",
       "       [0.08389505, 1.        ],\n",
       "       [0.31488061, 1.        ],\n",
       "       [0.43889591, 1.        ],\n",
       "       [0.7709201 , 1.        ],\n",
       "       [0.70380691, 1.        ],\n",
       "       [0.25141426, 1.        ]])"
      ]
     },
     "metadata": {},
     "execution_count": 313
    }
   ],
   "source": [
    "#generate random 20 points as our x data\n",
    "N = 20\n",
    "Xs = np.random.rand(N)\n",
    "#append bias and rotate it to the correct way\n",
    "Xs = np.concatenate((Xs.reshape(1,-1), np.ones(N).reshape(1, -1)), axis=0).T\n",
    "Xs"
   ]
  },
  {
   "cell_type": "code",
   "execution_count": 314,
   "metadata": {},
   "outputs": [
    {
     "output_type": "execute_result",
     "data": {
      "text/plain": [
       "array([[1.53183623, 1.        ],\n",
       "       [1.68572309, 1.        ],\n",
       "       [1.50809009, 1.        ],\n",
       "       [1.55880354, 1.        ],\n",
       "       [1.7996941 , 1.        ],\n",
       "       [1.56554552, 1.        ],\n",
       "       [1.65790345, 1.        ],\n",
       "       [1.49160027, 1.        ],\n",
       "       [1.73298628, 1.        ],\n",
       "       [1.70386931, 1.        ],\n",
       "       [1.73559528, 1.        ],\n",
       "       [1.61971389, 1.        ],\n",
       "       [1.56666924, 1.        ],\n",
       "       [1.44735308, 1.        ],\n",
       "       [1.45190911, 1.        ],\n",
       "       [1.54821744, 1.        ],\n",
       "       [1.59992503, 1.        ],\n",
       "       [1.73836094, 1.        ],\n",
       "       [1.71037841, 1.        ],\n",
       "       [1.52175545, 1.        ]])"
      ]
     },
     "metadata": {},
     "execution_count": 314
    }
   ],
   "source": [
    "#generate our real y values\n",
    "Ys = down2 @ down1 @ up2 @ up1 @ Xs.T\n",
    "Ys.T"
   ]
  },
  {
   "cell_type": "code",
   "execution_count": 315,
   "metadata": {},
   "outputs": [],
   "source": [
    "import scipy\n",
    "import scipy.linalg"
   ]
  },
  {
   "cell_type": "code",
   "execution_count": 316,
   "metadata": {},
   "outputs": [],
   "source": [
    "#now let's try and solve for a downscale (down1) node\n",
    "#down2 @ down1 @ up2 @ up1\n",
    "#first we need to go backwards through the down layer\n",
    "downs = down2\n",
    "inv_downs = np.linalg.pinv(downs)\n",
    "back_downs = inv_downs @ Ys"
   ]
  },
  {
   "cell_type": "code",
   "execution_count": 317,
   "metadata": {},
   "outputs": [
    {
     "output_type": "execute_result",
     "data": {
      "text/plain": [
       "array([[1.35752397, 2.28777139, 1.        ],\n",
       "       [1.52033158, 2.58018668, 1.        ],\n",
       "       [1.33240128, 2.24264906, 1.        ],\n",
       "       [1.38605457, 2.33901459, 1.        ],\n",
       "       [1.64090942, 2.79675398, 1.        ],\n",
       "       [1.39318738, 2.35182568, 1.        ],\n",
       "       [1.49089924, 2.52732388, 1.        ],\n",
       "       [1.31495556, 2.21131517, 1.        ],\n",
       "       [1.57033459, 2.66999602, 1.        ],\n",
       "       [1.53952972, 2.61466804, 1.        ],\n",
       "       [1.57309483, 2.67495362, 1.        ],\n",
       "       [1.45049585, 2.45475621, 1.        ],\n",
       "       [1.39437624, 2.35396096, 1.        ],\n",
       "       [1.26814338, 2.1272368 , 1.        ],\n",
       "       [1.27296353, 2.13589417, 1.        ],\n",
       "       [1.3748548 , 2.31889892, 1.        ],\n",
       "       [1.42955985, 2.4171535 , 1.        ],\n",
       "       [1.57602082, 2.68020893, 1.        ],\n",
       "       [1.54641616, 2.62703663, 1.        ],\n",
       "       [1.34685882, 2.26861594, 1.        ]])"
      ]
     },
     "metadata": {},
     "execution_count": 317
    }
   ],
   "source": [
    "(down1 @ up2 @ up1 @ Xs.T).T"
   ]
  },
  {
   "cell_type": "code",
   "execution_count": 318,
   "metadata": {},
   "outputs": [
    {
     "output_type": "execute_result",
     "data": {
      "text/plain": [
       "array([[1.92359121, 1.61249268, 1.        ],\n",
       "       [2.16317022, 1.81332505, 1.        ],\n",
       "       [1.886622  , 1.58150243, 1.        ],\n",
       "       [1.96557532, 1.64768679, 1.        ],\n",
       "       [2.34060614, 1.96206463, 1.        ],\n",
       "       [1.97607158, 1.65648551, 1.        ],\n",
       "       [2.11985916, 1.77701861, 1.        ],\n",
       "       [1.86094981, 1.55998214, 1.        ],\n",
       "       [2.23675198, 1.87500659, 1.        ],\n",
       "       [2.19142117, 1.83700704, 1.        ],\n",
       "       [2.2408138 , 1.8784115 , 1.        ],\n",
       "       [2.06040368, 1.72717874, 1.        ],\n",
       "       [1.97782104, 1.65795203, 1.        ],\n",
       "       [1.7920635 , 1.50223668, 1.        ],\n",
       "       [1.79915657, 1.5081826 , 1.        ],\n",
       "       [1.94909434, 1.63387124, 1.        ],\n",
       "       [2.02959538, 1.701353  , 1.        ],\n",
       "       [2.24511953, 1.88202087, 1.        ],\n",
       "       [2.20155489, 1.84550185, 1.        ],\n",
       "       [1.90789695, 1.59933662, 1.        ]])"
      ]
     },
     "metadata": {},
     "execution_count": 318
    }
   ],
   "source": [
    "back_downs.T"
   ]
  },
  {
   "cell_type": "code",
   "execution_count": 319,
   "metadata": {},
   "outputs": [],
   "source": [
    "# now forwards through the ups\n",
    "ups = up2 @ up1\n",
    "forw_ups = ups @ Xs.T"
   ]
  },
  {
   "cell_type": "code",
   "execution_count": 320,
   "metadata": {},
   "outputs": [
    {
     "output_type": "execute_result",
     "data": {
      "text/plain": [
       "array([[1.37522471, 0.85818599, 1.2677186 , 1.        ],\n",
       "       [1.62305237, 1.03757393, 1.39092109, 1.        ],\n",
       "       [1.33698266, 0.83050481, 1.24870734, 1.        ],\n",
       "       [1.41865432, 0.88962215, 1.28930875, 1.        ],\n",
       "       [1.80659738, 1.17043142, 1.48216676, 1.        ],\n",
       "       [1.42951197, 0.89748136, 1.29470641, 1.        ],\n",
       "       [1.57825012, 1.0051442 , 1.36864856, 1.        ],\n",
       "       [1.31042657, 0.81128241, 1.23550552, 1.        ],\n",
       "       [1.69916754, 1.09266925, 1.4287602 , 1.        ],\n",
       "       [1.652276  , 1.05872721, 1.40544902, 1.        ],\n",
       "       [1.70336921, 1.09571058, 1.43084897, 1.        ],\n",
       "       [1.5167476 , 0.96062613, 1.33807383, 1.        ],\n",
       "       [1.43132166, 0.89879129, 1.29560606, 1.        ],\n",
       "       [1.23916852, 0.75970288, 1.20008102, 1.        ],\n",
       "       [1.2465058 , 0.76501391, 1.20372861, 1.        ],\n",
       "       [1.4016059 , 0.87728179, 1.28083347, 1.        ],\n",
       "       [1.48487857, 0.93755801, 1.32223079, 1.        ],\n",
       "       [1.70782318, 1.09893456, 1.43306318, 1.        ],\n",
       "       [1.66275862, 1.06631496, 1.41066024, 1.        ],\n",
       "       [1.35899009, 0.8464347 , 1.25964789, 1.        ]])"
      ]
     },
     "metadata": {},
     "execution_count": 320
    }
   ],
   "source": [
    "forw_ups.T"
   ]
  },
  {
   "cell_type": "code",
   "execution_count": 321,
   "metadata": {},
   "outputs": [
    {
     "output_type": "execute_result",
     "data": {
      "text/plain": [
       "(4, 20)"
      ]
     },
     "metadata": {},
     "execution_count": 321
    }
   ],
   "source": [
    "forw_ups.shape"
   ]
  },
  {
   "cell_type": "code",
   "execution_count": 322,
   "metadata": {},
   "outputs": [
    {
     "output_type": "execute_result",
     "data": {
      "text/plain": [
       "(3, 20)"
      ]
     },
     "metadata": {},
     "execution_count": 322
    }
   ],
   "source": [
    "back_downs.shape"
   ]
  },
  {
   "cell_type": "code",
   "execution_count": 323,
   "metadata": {},
   "outputs": [
    {
     "output_type": "execute_result",
     "data": {
      "text/plain": [
       "array([[ 0.50638853,  0.31634105,  0.46536517,  0.36576165],\n",
       "       [ 0.42449133,  0.26517985,  0.3901026 ,  0.30660776],\n",
       "       [-0.08051731, -0.16076248,  0.39604124,  0.74662466]])"
      ]
     },
     "metadata": {},
     "execution_count": 323
    }
   ],
   "source": [
    "# now to solve down1 like a normal regression problem\n",
    "# whoops!\n",
    "((np.linalg.pinv(forw_ups @ forw_ups.T)) @ (forw_ups @ back_downs.T)).T"
   ]
  },
  {
   "cell_type": "code",
   "execution_count": 324,
   "metadata": {},
   "outputs": [
    {
     "output_type": "execute_result",
     "data": {
      "text/plain": [
       "array([[0.25048466, 0.38442733, 0.25785967, 0.35624763],\n",
       "       [0.61791901, 0.44236561, 0.48637662, 0.44177324],\n",
       "       [0.        , 0.        , 0.        , 1.        ]])"
      ]
     },
     "metadata": {},
     "execution_count": 324
    }
   ],
   "source": [
    "down1"
   ]
  },
  {
   "cell_type": "code",
   "execution_count": 325,
   "metadata": {},
   "outputs": [],
   "source": [
    "#now to solve down1 like a normal regression problem\n",
    "appxd1 = (np.linalg.pinv(back_downs @ back_downs.T)) @ (back_downs @ forw_ups.T)"
   ]
  },
  {
   "cell_type": "code",
   "execution_count": 326,
   "metadata": {},
   "outputs": [
    {
     "output_type": "execute_result",
     "data": {
      "text/plain": [
       "array([[ 6.07523243e-01,  4.39750516e-01,  3.02017845e-01,\n",
       "         3.55271368e-14],\n",
       "       [ 5.09269733e-01,  3.68630551e-01,  2.53173107e-01,\n",
       "        -4.17443857e-14],\n",
       "       [-6.14595380e-01, -5.82128304e-01,  2.78519943e-01,\n",
       "         1.00000000e+00]])"
      ]
     },
     "metadata": {},
     "execution_count": 326
    }
   ],
   "source": [
    "appxd1"
   ]
  },
  {
   "cell_type": "code",
   "execution_count": 327,
   "metadata": {},
   "outputs": [
    {
     "output_type": "execute_result",
     "data": {
      "text/plain": [
       "(3, 4)"
      ]
     },
     "metadata": {},
     "execution_count": 327
    }
   ],
   "source": [
    "appxd1.shape"
   ]
  },
  {
   "cell_type": "code",
   "execution_count": 328,
   "metadata": {},
   "outputs": [],
   "source": [
    "appxd1[-1] = ([0]*(appxd1.shape[-1]-1)) + [1]"
   ]
  },
  {
   "cell_type": "code",
   "execution_count": 329,
   "metadata": {},
   "outputs": [
    {
     "output_type": "execute_result",
     "data": {
      "text/plain": [
       "1.6701286570139977"
      ]
     },
     "metadata": {},
     "execution_count": 329
    }
   ],
   "source": [
    "np.sum(np.abs(down1-appxd1))"
   ]
  },
  {
   "cell_type": "code",
   "execution_count": 330,
   "metadata": {},
   "outputs": [],
   "source": [
    "Ys_hat = down2 @ appxd1 @ up2 @ up1 @ Xs.T"
   ]
  },
  {
   "cell_type": "code",
   "execution_count": 331,
   "metadata": {},
   "outputs": [
    {
     "output_type": "execute_result",
     "data": {
      "text/plain": [
       "array([[0.46406863, 1.1933581 ],\n",
       "       [0.        , 1.        ]])"
      ]
     },
     "metadata": {},
     "execution_count": 331
    }
   ],
   "source": [
    "down2 @ appxd1 @ up2 @ up1"
   ]
  },
  {
   "cell_type": "code",
   "execution_count": 332,
   "metadata": {},
   "outputs": [
    {
     "output_type": "execute_result",
     "data": {
      "text/plain": [
       "array([[0.41694524, 1.41692947],\n",
       "       [0.        , 1.        ]])"
      ]
     },
     "metadata": {},
     "execution_count": 332
    }
   ],
   "source": [
    "down2 @ down1 @ up2 @ up1"
   ]
  },
  {
   "cell_type": "code",
   "execution_count": 333,
   "metadata": {},
   "outputs": [
    {
     "output_type": "execute_result",
     "data": {
      "text/plain": [
       "array([[1.32125168, 1.        ],\n",
       "       [1.49253093, 1.        ],\n",
       "       [1.29482174, 1.        ],\n",
       "       [1.35126686, 1.        ],\n",
       "       [1.619383  , 1.        ],\n",
       "       [1.35877082, 1.        ],\n",
       "       [1.46156709, 1.        ],\n",
       "       [1.27646823, 1.        ],\n",
       "       [1.54513583, 1.        ],\n",
       "       [1.51272803, 1.        ],\n",
       "       [1.54803969, 1.        ],\n",
       "       [1.41906132, 1.        ],\n",
       "       [1.36002154, 1.        ],\n",
       "       [1.2272202 , 1.        ],\n",
       "       [1.23229116, 1.        ],\n",
       "       [1.33948431, 1.        ],\n",
       "       [1.39703592, 1.        ],\n",
       "       [1.55111793, 1.        ],\n",
       "       [1.5199728 , 1.        ],\n",
       "       [1.31003157, 1.        ]])"
      ]
     },
     "metadata": {},
     "execution_count": 333
    }
   ],
   "source": [
    "Ys_hat.T"
   ]
  },
  {
   "cell_type": "code",
   "execution_count": 334,
   "metadata": {},
   "outputs": [
    {
     "output_type": "execute_result",
     "data": {
      "text/plain": [
       "array([[1.53183623, 1.        ],\n",
       "       [1.68572309, 1.        ],\n",
       "       [1.50809009, 1.        ],\n",
       "       [1.55880354, 1.        ],\n",
       "       [1.7996941 , 1.        ],\n",
       "       [1.56554552, 1.        ],\n",
       "       [1.65790345, 1.        ],\n",
       "       [1.49160027, 1.        ],\n",
       "       [1.73298628, 1.        ],\n",
       "       [1.70386931, 1.        ],\n",
       "       [1.73559528, 1.        ],\n",
       "       [1.61971389, 1.        ],\n",
       "       [1.56666924, 1.        ],\n",
       "       [1.44735308, 1.        ],\n",
       "       [1.45190911, 1.        ],\n",
       "       [1.54821744, 1.        ],\n",
       "       [1.59992503, 1.        ],\n",
       "       [1.73836094, 1.        ],\n",
       "       [1.71037841, 1.        ],\n",
       "       [1.52175545, 1.        ]])"
      ]
     },
     "metadata": {},
     "execution_count": 334
    }
   ],
   "source": [
    "Ys.T"
   ]
  },
  {
   "cell_type": "code",
   "execution_count": 335,
   "metadata": {},
   "outputs": [
    {
     "output_type": "execute_result",
     "data": {
      "text/plain": [
       "0.04089257248263724"
      ]
     },
     "metadata": {},
     "execution_count": 335
    }
   ],
   "source": [
    "np.mean((Ys_hat.T[:,0] - Ys.T[:,0])**2)"
   ]
  },
  {
   "cell_type": "code",
   "execution_count": 336,
   "metadata": {},
   "outputs": [
    {
     "output_type": "execute_result",
     "data": {
      "text/plain": [
       "0.2018864557511185"
      ]
     },
     "metadata": {},
     "execution_count": 336
    }
   ],
   "source": [
    "np.mean(np.abs(Ys_hat.T[:,0] - Ys.T[:,0]))"
   ]
  },
  {
   "cell_type": "code",
   "execution_count": null,
   "metadata": {},
   "outputs": [],
   "source": []
  }
 ]
}