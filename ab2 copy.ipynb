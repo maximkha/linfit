{
 "metadata": {
  "language_info": {
   "codemirror_mode": {
    "name": "ipython",
    "version": 3
   },
   "file_extension": ".py",
   "mimetype": "text/x-python",
   "name": "python",
   "nbconvert_exporter": "python",
   "pygments_lexer": "ipython3",
   "version": "3.8.0"
  },
  "orig_nbformat": 2,
  "kernelspec": {
   "name": "python380jvsc74a57bd0c4a6cc1c2df5ddd62d6925b2a7bdee9abacf912eab37272999970e810b9642fd",
   "display_name": "Python 3.8.0 64-bit"
  }
 },
 "nbformat": 4,
 "nbformat_minor": 2,
 "cells": [
  {
   "cell_type": "code",
   "execution_count": 176,
   "metadata": {},
   "outputs": [],
   "source": [
    "import numpy as np"
   ]
  },
  {
   "cell_type": "code",
   "execution_count": 177,
   "metadata": {},
   "outputs": [],
   "source": [
    "Xs = np.array([[0,1],[1,1],[2,1],[3,1]])"
   ]
  },
  {
   "cell_type": "code",
   "execution_count": 178,
   "metadata": {},
   "outputs": [],
   "source": [
    "def create_transform(x_dim, y_dim):\n",
    "    #account for bias\n",
    "    f_x = np.random.rand(y_dim + 1, x_dim + 1)\n",
    "    f_x[-1] = ([0]*x_dim) + [1]\n",
    "    return f_x"
   ]
  },
  {
   "cell_type": "code",
   "execution_count": 179,
   "metadata": {},
   "outputs": [],
   "source": [
    "#upscale\n",
    "up1 = create_transform(1,2) # 1d (+ bias) -> 2d\n",
    "up2 = create_transform(2,3) # 2d (+ bias) -> 3d\n",
    "#then downscale\n",
    "down1 = create_transform(3,2)\n",
    "down2 = create_transform(2,1)"
   ]
  },
  {
   "cell_type": "code",
   "execution_count": 180,
   "metadata": {},
   "outputs": [
    {
     "output_type": "execute_result",
     "data": {
      "text/plain": [
       "array([[1.54855532, 3.08140403],\n",
       "       [0.        , 1.        ]])"
      ]
     },
     "metadata": {},
     "execution_count": 180
    }
   ],
   "source": [
    "# the whole transform collapses into a simple single matrix\n",
    "down2 @ down1 @ up2 @ up1"
   ]
  },
  {
   "cell_type": "code",
   "execution_count": 181,
   "metadata": {},
   "outputs": [
    {
     "output_type": "execute_result",
     "data": {
      "text/plain": [
       "array([[0.43650542, 1.        ],\n",
       "       [0.99759941, 1.        ],\n",
       "       [0.43723327, 1.        ],\n",
       "       [0.36581999, 1.        ],\n",
       "       [0.40495531, 1.        ],\n",
       "       [0.17491868, 1.        ],\n",
       "       [0.17780113, 1.        ],\n",
       "       [0.87785328, 1.        ],\n",
       "       [0.55997853, 1.        ],\n",
       "       [0.1644978 , 1.        ],\n",
       "       [0.44860624, 1.        ],\n",
       "       [0.51057318, 1.        ],\n",
       "       [0.71756009, 1.        ],\n",
       "       [0.76554367, 1.        ],\n",
       "       [0.99521839, 1.        ],\n",
       "       [0.6064134 , 1.        ],\n",
       "       [0.53895931, 1.        ],\n",
       "       [0.67707756, 1.        ],\n",
       "       [0.73315477, 1.        ],\n",
       "       [0.55735154, 1.        ]])"
      ]
     },
     "metadata": {},
     "execution_count": 181
    }
   ],
   "source": [
    "#generate random 20 points as our x data\n",
    "N = 20\n",
    "Xs = np.random.rand(N)\n",
    "#append bias and rotate it to the correct way\n",
    "Xs = np.concatenate((Xs.reshape(1,-1), np.ones(N).reshape(1, -1)), axis=0).T\n",
    "Xs"
   ]
  },
  {
   "cell_type": "code",
   "execution_count": 182,
   "metadata": {},
   "outputs": [
    {
     "output_type": "execute_result",
     "data": {
      "text/plain": [
       "array([[3.75735681, 1.        ],\n",
       "       [4.6262419 , 1.        ],\n",
       "       [3.75848393, 1.        ],\n",
       "       [3.64789651, 1.        ],\n",
       "       [3.70849972, 1.        ],\n",
       "       [3.35227528, 1.        ],\n",
       "       [3.35673891, 1.        ],\n",
       "       [4.44080838, 1.        ],\n",
       "       [3.94856175, 1.        ],\n",
       "       [3.33613797, 1.        ],\n",
       "       [3.7760956 , 1.        ],\n",
       "       [3.87205484, 1.        ],\n",
       "       [4.19258552, 1.        ],\n",
       "       [4.26689075, 1.        ],\n",
       "       [4.62255475, 1.        ],\n",
       "       [4.02046873, 1.        ],\n",
       "       [3.91601233, 1.        ],\n",
       "       [4.12989609, 1.        ],\n",
       "       [4.21673475, 1.        ],\n",
       "       [3.94449372, 1.        ]])"
      ]
     },
     "metadata": {},
     "execution_count": 182
    }
   ],
   "source": [
    "#generate our real y values\n",
    "Ys = down2 @ down1 @ up2 @ up1 @ Xs.T\n",
    "Ys.T"
   ]
  },
  {
   "cell_type": "code",
   "execution_count": 183,
   "metadata": {},
   "outputs": [],
   "source": [
    "#now let's try and solve for a downscale (down1) node\n",
    "#down2 @ down1 @ up2 @ up1\n",
    "\n",
    "#first we need to go backwards through the down layer\n",
    "downs = down2\n",
    "inv_downs = np.linalg.pinv(downs)\n",
    "back_downs = (inv_downs @ Ys).T[:,:2]"
   ]
  },
  {
   "cell_type": "code",
   "execution_count": 184,
   "metadata": {},
   "outputs": [
    {
     "output_type": "execute_result",
     "data": {
      "text/plain": [
       "array([[1.60874723, 2.60874933, 1.        ],\n",
       "       [2.08737593, 3.42596429, 1.        ],\n",
       "       [1.60936811, 2.60980942, 1.        ],\n",
       "       [1.5484506 , 2.50579832, 1.        ],\n",
       "       [1.58183411, 2.56279763, 1.        ],\n",
       "       [1.3856065 , 2.22775684, 1.        ],\n",
       "       [1.38806531, 2.23195503, 1.        ],\n",
       "       [1.98522916, 3.25155798, 1.        ],\n",
       "       [1.71407321, 2.78858385, 1.        ],\n",
       "       [1.37671721, 2.21257917, 1.        ],\n",
       "       [1.61906956, 2.62637377, 1.        ],\n",
       "       [1.67192908, 2.71662659, 1.        ],\n",
       "       [1.84849464, 3.01809622, 1.        ],\n",
       "       [1.88942597, 3.08798273, 1.        ],\n",
       "       [2.08534485, 3.4224964 , 1.        ],\n",
       "       [1.75368344, 2.85621472, 1.        ],\n",
       "       [1.69614323, 2.75797005, 1.        ],\n",
       "       [1.81396193, 2.95913475, 1.        ],\n",
       "       [1.86179734, 3.04080936, 1.        ],\n",
       "       [1.71183232, 2.78475773, 1.        ]])"
      ]
     },
     "metadata": {},
     "execution_count": 184
    }
   ],
   "source": [
    "(down1 @ up2 @ up1 @ Xs.T).T"
   ]
  },
  {
   "cell_type": "code",
   "execution_count": 185,
   "metadata": {},
   "outputs": [
    {
     "output_type": "execute_result",
     "data": {
      "text/plain": [
       "array([[2.33484585, 1.22649715],\n",
       "       [3.04640889, 1.60028201],\n",
       "       [2.33576889, 1.22698202],\n",
       "       [2.24520465, 1.17940852],\n",
       "       [2.29483492, 1.20547936],\n",
       "       [2.00310918, 1.0522355 ],\n",
       "       [2.00676462, 1.05415571],\n",
       "       [2.89455033, 1.52051054],\n",
       "       [2.49143085, 1.30875142],\n",
       "       [1.98989373, 1.04529341],\n",
       "       [2.35019176, 1.23455837],\n",
       "       [2.42877643, 1.27583898],\n",
       "       [2.69127119, 1.41372778],\n",
       "       [2.75212257, 1.44569308],\n",
       "       [3.04338934, 1.59869584],\n",
       "       [2.5503182 , 1.33968501],\n",
       "       [2.46477489, 1.29474902],\n",
       "       [2.63993243, 1.38675947],\n",
       "       [2.71104791, 1.42411651],\n",
       "       [2.48809938, 1.3070014 ]])"
      ]
     },
     "metadata": {},
     "execution_count": 185
    }
   ],
   "source": [
    "back_downs"
   ]
  },
  {
   "cell_type": "code",
   "execution_count": 186,
   "metadata": {},
   "outputs": [],
   "source": [
    "# now forwards through the ups\n",
    "ups = up2 @ up1\n",
    "forw_ups = ups @ Xs.T"
   ]
  },
  {
   "cell_type": "code",
   "execution_count": 187,
   "metadata": {},
   "outputs": [
    {
     "output_type": "execute_result",
     "data": {
      "text/plain": [
       "array([[0.95649901, 0.83783477, 1.63370509, 1.        ],\n",
       "       [1.35635571, 1.00257368, 2.11671041, 1.        ],\n",
       "       [0.9570177 , 0.83804847, 1.63433164, 1.        ],\n",
       "       [0.9061259 , 0.81708131, 1.5728571 , 1.        ],\n",
       "       [0.93401521, 0.82857156, 1.60654587, 1.        ],\n",
       "       [0.77008244, 0.76103211, 1.40852394, 1.        ],\n",
       "       [0.77213658, 0.7618784 , 1.41100523, 1.        ],\n",
       "       [1.27102011, 0.96741585, 2.0136296 , 1.        ],\n",
       "       [1.04449059, 0.87408686, 1.73999418, 1.        ],\n",
       "       [0.76265613, 0.75797251, 1.39955336, 1.        ],\n",
       "       [0.9651225 , 0.84138761, 1.64412181, 1.        ],\n",
       "       [1.00928248, 0.85958129, 1.69746468, 1.        ],\n",
       "       [1.15678915, 0.92035328, 1.87564477, 1.        ],\n",
       "       [1.19098406, 0.93444141, 1.91695037, 1.        ],\n",
       "       [1.3546589 , 1.00187461, 2.11466076, 1.        ],\n",
       "       [1.07758183, 0.88772028, 1.77996661, 1.        ],\n",
       "       [1.02951151, 0.86791555, 1.72190025, 1.        ],\n",
       "       [1.12793977, 0.90846749, 1.84079628, 1.        ],\n",
       "       [1.1679025 , 0.92493193, 1.8890691 , 1.        ],\n",
       "       [1.0426185 , 0.87331556, 1.73773279, 1.        ]])"
      ]
     },
     "metadata": {},
     "execution_count": 187
    }
   ],
   "source": [
    "forw_ups.T"
   ]
  },
  {
   "cell_type": "code",
   "execution_count": 188,
   "metadata": {},
   "outputs": [
    {
     "output_type": "execute_result",
     "data": {
      "text/plain": [
       "(4, 20)"
      ]
     },
     "metadata": {},
     "execution_count": 188
    }
   ],
   "source": [
    "forw_ups.shape"
   ]
  },
  {
   "cell_type": "code",
   "execution_count": 189,
   "metadata": {},
   "outputs": [
    {
     "output_type": "execute_result",
     "data": {
      "text/plain": [
       "(20, 2)"
      ]
     },
     "metadata": {},
     "execution_count": 189
    }
   ],
   "source": [
    "back_downs.shape"
   ]
  },
  {
   "cell_type": "code",
   "execution_count": 205,
   "metadata": {},
   "outputs": [
    {
     "output_type": "execute_result",
     "data": {
      "text/plain": [
       "array([[0.64864251, 0.31061386, 0.83027819, 0.09774714],\n",
       "       [0.34073264, 0.16316581, 0.43614606, 0.05134668]])"
      ]
     },
     "metadata": {},
     "execution_count": 205
    }
   ],
   "source": [
    "# now to solve down1 like a normal regression problem\n",
    "# whoops!\n",
    "# ((np.linalg.pinv(forw_ups @ forw_ups.T)) @ (forw_ups @ back_downs)).T\n",
    "(np.linalg.pinv(forw_ups.T) @ back_downs).T"
   ]
  },
  {
   "cell_type": "code",
   "execution_count": 191,
   "metadata": {},
   "outputs": [
    {
     "output_type": "execute_result",
     "data": {
      "text/plain": [
       "array([[0.39152687, 0.14343518, 0.61789112, 0.10462531],\n",
       "       [0.87125571, 0.52280254, 0.79235483, 0.04289784],\n",
       "       [0.        , 0.        , 0.        , 1.        ]])"
      ]
     },
     "metadata": {},
     "execution_count": 191
    }
   ],
   "source": [
    "down1"
   ]
  },
  {
   "cell_type": "code",
   "execution_count": 167,
   "metadata": {},
   "outputs": [
    {
     "output_type": "execute_result",
     "data": {
      "text/plain": [
       "array([[0.53337033, 0.30836241, 0.3468824 , 0.46906102],\n",
       "       [0.0886279 , 0.05123928, 0.05763999, 0.07794189],\n",
       "       [0.        , 0.        , 0.        , 1.        ]])"
      ]
     },
     "metadata": {},
     "execution_count": 167
    }
   ],
   "source": [
    "#now to solve down1 like a normal regression problem\n",
    "appxd1 = (np.linalg.pinv(back_downs.T @ back_downs)) @ (back_downs.T @ forw_ups.T)\n",
    "\n",
    "appxd1 = np.insert(appxd1, appxd1.shape[0], ([0]*(appxd1.shape[-1]-1)) + [1], axis=0)\n",
    "appxd1"
   ]
  },
  {
   "cell_type": "code",
   "execution_count": 168,
   "metadata": {},
   "outputs": [
    {
     "output_type": "execute_result",
     "data": {
      "text/plain": [
       "array([[0.53337033, 0.30836241, 0.3468824 , 0.46906102],\n",
       "       [0.0886279 , 0.05123928, 0.05763999, 0.07794189],\n",
       "       [0.        , 0.        , 0.        , 1.        ]])"
      ]
     },
     "metadata": {},
     "execution_count": 168
    }
   ],
   "source": [
    "appxd1"
   ]
  },
  {
   "cell_type": "code",
   "execution_count": 169,
   "metadata": {},
   "outputs": [
    {
     "output_type": "execute_result",
     "data": {
      "text/plain": [
       "(3, 4)"
      ]
     },
     "metadata": {},
     "execution_count": 169
    }
   ],
   "source": [
    "appxd1.shape"
   ]
  },
  {
   "cell_type": "code",
   "execution_count": 170,
   "metadata": {},
   "outputs": [
    {
     "output_type": "execute_result",
     "data": {
      "text/plain": [
       "2.7414850771926433"
      ]
     },
     "metadata": {},
     "execution_count": 170
    }
   ],
   "source": [
    "np.sum(np.abs(down1-appxd1))"
   ]
  },
  {
   "cell_type": "code",
   "execution_count": 171,
   "metadata": {},
   "outputs": [],
   "source": [
    "Ys_hat = down2 @ appxd1 @ up2 @ up1 @ Xs.T"
   ]
  },
  {
   "cell_type": "code",
   "execution_count": 172,
   "metadata": {},
   "outputs": [
    {
     "output_type": "execute_result",
     "data": {
      "text/plain": [
       "array([[0.44647044, 1.36088334],\n",
       "       [0.        , 1.        ]])"
      ]
     },
     "metadata": {},
     "execution_count": 172
    }
   ],
   "source": [
    "down2 @ appxd1 @ up2 @ up1"
   ]
  },
  {
   "cell_type": "code",
   "execution_count": 173,
   "metadata": {},
   "outputs": [
    {
     "output_type": "execute_result",
     "data": {
      "text/plain": [
       "array([[0.43231558, 1.88968456],\n",
       "       [0.        , 1.        ]])"
      ]
     },
     "metadata": {},
     "execution_count": 173
    }
   ],
   "source": [
    "down2 @ down1 @ up2 @ up1"
   ]
  },
  {
   "cell_type": "code",
   "execution_count": 174,
   "metadata": {},
   "outputs": [
    {
     "output_type": "execute_result",
     "data": {
      "text/plain": [
       "array([[1.65415855, 1.        ],\n",
       "       [1.62631107, 1.        ],\n",
       "       [1.44505419, 1.        ],\n",
       "       [1.43968929, 1.        ],\n",
       "       [1.74374522, 1.        ],\n",
       "       [1.79455036, 1.        ],\n",
       "       [1.73863937, 1.        ],\n",
       "       [1.56885271, 1.        ],\n",
       "       [1.40529989, 1.        ],\n",
       "       [1.73647506, 1.        ],\n",
       "       [1.45320843, 1.        ],\n",
       "       [1.75291838, 1.        ],\n",
       "       [1.6362273 , 1.        ],\n",
       "       [1.37428912, 1.        ],\n",
       "       [1.55715517, 1.        ],\n",
       "       [1.74759623, 1.        ],\n",
       "       [1.68045237, 1.        ],\n",
       "       [1.51837992, 1.        ],\n",
       "       [1.61448852, 1.        ],\n",
       "       [1.5250251 , 1.        ]])"
      ]
     },
     "metadata": {},
     "execution_count": 174
    }
   ],
   "source": [
    "Ys_hat.T"
   ]
  },
  {
   "cell_type": "code",
   "execution_count": 175,
   "metadata": {},
   "outputs": [
    {
     "output_type": "execute_result",
     "data": {
      "text/plain": [
       "array([[2.1736618 , 1.        ],\n",
       "       [2.14669719, 1.        ],\n",
       "       [1.97118687, 1.        ],\n",
       "       [1.96599205, 1.        ],\n",
       "       [2.26040821, 1.        ],\n",
       "       [2.30960263, 1.        ],\n",
       "       [2.25546425, 1.        ],\n",
       "       [2.09106049, 1.        ],\n",
       "       [1.93269293, 1.        ],\n",
       "       [2.25336855, 1.        ],\n",
       "       [1.97908258, 1.        ],\n",
       "       [2.26929055, 1.        ],\n",
       "       [2.15629903, 1.        ],\n",
       "       [1.90266533, 1.        ],\n",
       "       [2.0797338 , 1.        ],\n",
       "       [2.26413713, 1.        ],\n",
       "       [2.19912199, 1.        ],\n",
       "       [2.04218788, 1.        ],\n",
       "       [2.13524946, 1.        ],\n",
       "       [2.04862238, 1.        ]])"
      ]
     },
     "metadata": {},
     "execution_count": 175
    }
   ],
   "source": [
    "Ys.T"
   ]
  },
  {
   "cell_type": "code",
   "execution_count": null,
   "metadata": {},
   "outputs": [],
   "source": []
  }
 ]
}